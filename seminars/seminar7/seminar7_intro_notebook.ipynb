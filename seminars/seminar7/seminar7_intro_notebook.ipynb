{
 "cells": [
  {
   "cell_type": "markdown",
   "metadata": {},
   "source": [
    "# Модуль re\n",
    "\n",
    "В Python для работы с регулярными выражениями используется модуль **re**.\n",
    "\n",
    "Основные функции модуля **re**:\n",
    "\n",
    "* `match` - ищет последовательность в начале строки\n",
    "* `search` - ищет первое совпадение с шаблоном\n",
    "* `findall` - ищет все совпадения с шаблоном. Возвращает результирующие строки в виде списка\n",
    "* `finditer` - ищет все совпадения с шаблоном. Возвращает итератор\n",
    "* `compile` - компилирует регулярное выражение. К этому объекту затем можно применять все перечисленные функции\n",
    "* `fullmatch` - вся строка должна соответствовать описанному регулярному выражению\n",
    "\n",
    "Кроме функций для поиска совпадений, в модуле есть такие функции:\n",
    "\n",
    "* `re.sub` - для замены в строках\n",
    "* `re.split` - для разделения строки на части\n",
    "\n",
    "## Объект `Match`\n",
    "\n",
    "В модуле **re** несколько функций возвращают объект `Match`, если было найдено совпадение:\n",
    "\n",
    "* `search`\n",
    "* `match`\n",
    "* `finditer` возвращает итератор с объектами `Match`\n",
    "\n",
    "Пример объекта Match:"
   ]
  },
  {
   "cell_type": "code",
   "execution_count": null,
   "metadata": {},
   "outputs": [
    {
     "data": {
      "text/plain": [
       "<re.Match object; span=(47, 124), match='Host f03a.b216.7ad7 in vlan 10 is flapping betwee>"
      ]
     },
     "metadata": {},
     "output_type": "display_data"
    }
   ],
   "source": [
    "log = 'Jun  3 14:39:05.941: %SW_MATM-4-MACFLAP_NOTIF: Host f03a.b216.7ad7 in vlan 10 is flapping between port Gi0/5 and port Gi0/15'\n",
    "\n",
    "match = re.search(r'Host (\\S+) in vlan (\\d+) .* port (\\S+) and port (\\S+)', log)\n",
    "\n",
    "match"
   ]
  },
  {
   "cell_type": "markdown",
   "metadata": {},
   "source": [
    "Вывод в 3 строке просто отображает информацию об объекте. Поэтому не стоит полагаться на то, что отображается в части match, так как отображаемая строка обрезается по фиксированному количеству знаков.\n",
    "\n",
    "### `group`\n",
    "\n",
    "Метод `group` возвращает подстроку, которая совпала с выражением или с выражением в группе.\n",
    "\n",
    "Если метод вызывается без аргументов, отображается вся подстрока:"
   ]
  },
  {
   "cell_type": "code",
   "execution_count": null,
   "metadata": {},
   "outputs": [
    {
     "data": {
      "text/plain": [
       "'Host f03a.b216.7ad7 in vlan 10 is flapping between port Gi0/5 and port Gi0/15'"
      ]
     },
     "metadata": {},
     "output_type": "display_data"
    }
   ],
   "source": [
    "match.group()"
   ]
  },
  {
   "cell_type": "markdown",
   "metadata": {},
   "source": [
    "Аналогичный вывод возвращает группа 0:"
   ]
  },
  {
   "cell_type": "code",
   "execution_count": null,
   "metadata": {},
   "outputs": [
    {
     "data": {
      "text/plain": [
       "'Host f03a.b216.7ad7 in vlan 10 is flapping between port Gi0/5 and port Gi0/15'"
      ]
     },
     "metadata": {},
     "output_type": "display_data"
    }
   ],
   "source": [
    "match.group(0)"
   ]
  },
  {
   "cell_type": "markdown",
   "metadata": {},
   "source": [
    "Другие номера отображают только содержимое соответствующей группы:"
   ]
  },
  {
   "cell_type": "code",
   "execution_count": null,
   "metadata": {},
   "outputs": [
    {
     "name": "stdout",
     "output_type": "stream",
     "text": [
      "f03a.b216.7ad7\n",
      "10\n",
      "Gi0/5\n",
      "Gi0/15\n"
     ]
    }
   ],
   "source": [
    "print(match.group(1))\n",
    "print(match.group(2))\n",
    "print(match.group(3))\n",
    "print(match.group(4))"
   ]
  },
  {
   "cell_type": "markdown",
   "metadata": {},
   "source": [
    "Если вызвать метод `group` с номером группы, который больше, чем количество существующих групп, возникнет ошибка:"
   ]
  },
  {
   "cell_type": "code",
   "execution_count": null,
   "metadata": {},
   "outputs": [
    {
     "ename": "IndexError",
     "evalue": "no such group",
     "output_type": "error",
     "traceback": [
      "\u001b[0;31m---------------------------------------------------------------------------\u001b[0m\n",
      "\u001b[0;31mIndexError\u001b[0m                                Traceback (most recent call last)\n",
      "\u001b[1;32m/Users/khanimood/LocalRepo/python_course/lectures/extra_lectures/lecture_extra_2/lecture_extra_2_notebook.ipynb Cell 113'\u001b[0m in \u001b[0;36m<cell line: 1>\u001b[0;34m()\u001b[0m\n",
      "\u001b[0;32m----> <a href='vscode-notebook-cell:/Users/khanimood/LocalRepo/python_course/lectures/extra_lectures/lecture_extra_2/lecture_extra_2_notebook.ipynb#ch0000117?line=0'>1</a>\u001b[0m \u001b[39mmatch\u001b[39;49;00m\u001b[39m.\u001b[39;49mgroup(\u001b[39m5\u001b[39;49m)\n",
      "\n",
      "\u001b[0;31mIndexError\u001b[0m: no such group"
     ]
    }
   ],
   "source": [
    "match.group(5)"
   ]
  },
  {
   "cell_type": "markdown",
   "metadata": {},
   "source": [
    "Если вызвать метод с несколькими номерами групп, результатом будет кортеж со строками, которые соответствуют совпадениям:"
   ]
  },
  {
   "cell_type": "code",
   "execution_count": null,
   "metadata": {},
   "outputs": [
    {
     "data": {
      "text/plain": [
       "('f03a.b216.7ad7', '10', 'Gi0/5')"
      ]
     },
     "metadata": {},
     "output_type": "display_data"
    }
   ],
   "source": [
    "match.group(1, 2, 3)"
   ]
  },
  {
   "cell_type": "markdown",
   "metadata": {},
   "source": [
    "В группу может ничего не попасть, тогда ей будет соответствовать пустая строка:"
   ]
  },
  {
   "cell_type": "code",
   "execution_count": null,
   "metadata": {},
   "outputs": [
    {
     "data": {
      "text/plain": [
       "''"
      ]
     },
     "metadata": {},
     "output_type": "display_data"
    }
   ],
   "source": [
    "log = 'Jun  3 14:39:05.941: %SW_MATM-4-MACFLAP_NOTIF: Host f03a.b216.7ad7 in vlan 10 is flapping between port Gi0/5 and port Gi0/15'\n",
    "\n",
    "match = re.search(r'Host (\\S+) in vlan (\\D*)', log)\n",
    "\n",
    "match.group(2)"
   ]
  },
  {
   "cell_type": "markdown",
   "metadata": {},
   "source": [
    "Если группа описывает часть шаблона и совпадений было несколько, метод отобразит последнее совпадение:"
   ]
  },
  {
   "cell_type": "code",
   "execution_count": null,
   "metadata": {},
   "outputs": [
    {
     "data": {
      "text/plain": [
       "'b216.'"
      ]
     },
     "metadata": {},
     "output_type": "display_data"
    }
   ],
   "source": [
    "log = 'Jun  3 14:39:05.941: %SW_MATM-4-MACFLAP_NOTIF: Host f03a.b216.7ad7 in vlan 10 is flapping between port Gi0/5 and port Gi0/15'\n",
    "\n",
    "match = re.search(r'Host (\\w{4}\\.)+', log)\n",
    "\n",
    "match.group(1)"
   ]
  },
  {
   "cell_type": "markdown",
   "metadata": {},
   "source": [
    "Такой вывод получился из-за того, что выражение в скобках описывает 4 буквы или цифры, точка и после этого стоит плюс. Соответственно, сначала с выражением в скобках совпала первая часть MAC-адреса, потом вторая. Но запоминается и возвращается только последнее выражение.\n",
    "\n",
    "Если в выражении использовались именованные группы, методу `group` можно передать имя группы и получить соответствующую подстроку:"
   ]
  },
  {
   "cell_type": "code",
   "execution_count": null,
   "metadata": {},
   "outputs": [
    {
     "name": "stdout",
     "output_type": "stream",
     "text": [
      "f03a.b216.7ad7\n",
      "Gi0/15\n"
     ]
    }
   ],
   "source": [
    "log = 'Jun  3 14:39:05.941: %SW_MATM-4-MACFLAP_NOTIF: Host f03a.b216.7ad7 in vlan 10 is flapping between port Gi0/5 and port Gi0/15'\n",
    "\n",
    "match = re.search(r'Host (?P<mac>\\S+) '\n",
    "    r'in vlan (?P<vlan>\\d+) .* '\n",
    "    r'port (?P<int1>\\S+) '\n",
    "    r'and port (?P<int2>\\S+)',\n",
    "    log)\n",
    "\n",
    "print(match.group('mac'))\n",
    "print(match.group('int2'))    "
   ]
  },
  {
   "cell_type": "markdown",
   "metadata": {},
   "source": [
    "При этом группы доступны и по номеру:"
   ]
  },
  {
   "cell_type": "code",
   "execution_count": null,
   "metadata": {},
   "outputs": [
    {
     "name": "stdout",
     "output_type": "stream",
     "text": [
      "Gi0/5\n",
      "Gi0/15\n"
     ]
    }
   ],
   "source": [
    "print(match.group(3))\n",
    "print(match.group(4))"
   ]
  },
  {
   "cell_type": "markdown",
   "metadata": {},
   "source": [
    "### `groups`\n",
    "\n",
    "Метод `groups` возвращает кортеж со строками, в котором элементы - это те подстроки, которые попали в соответствующие группы:"
   ]
  },
  {
   "cell_type": "code",
   "execution_count": null,
   "metadata": {},
   "outputs": [
    {
     "data": {
      "text/plain": [
       "('f03a.b216.7ad7', '10', 'Gi0/5', 'Gi0/15')"
      ]
     },
     "metadata": {},
     "output_type": "display_data"
    }
   ],
   "source": [
    "log = 'Jun  3 14:39:05.941: %SW_MATM-4-MACFLAP_NOTIF: Host f03a.b216.7ad7 in vlan 10 is flapping between port Gi0/5 and port Gi0/15'\n",
    "\n",
    "match = re.search(r'Host (\\S+) '\n",
    "    r'in vlan (\\d+) .* '\n",
    "    r'port (\\S+) '\n",
    "    r'and port (\\S+)',\n",
    "    log)\n",
    "    \n",
    "match.groups()"
   ]
  },
  {
   "cell_type": "markdown",
   "metadata": {},
   "source": [
    "У метода `groups` есть опциональный параметр - `default`. Он срабатывает в ситуации, когда все, что попадает в группу, опционально.\n",
    "\n",
    "Например, при такой строке, совпадение будет и в первой группе, и во второй:"
   ]
  },
  {
   "cell_type": "code",
   "execution_count": null,
   "metadata": {},
   "outputs": [
    {
     "data": {
      "text/plain": [
       "('100', 'aab1')"
      ]
     },
     "metadata": {},
     "output_type": "display_data"
    }
   ],
   "source": [
    "line = '100     aab1.a1a1.a5d3    FastEthernet0/1'\n",
    "\n",
    "match = re.search(r'(\\d+) +(\\w+)?', line)\n",
    "\n",
    "match.groups()"
   ]
  },
  {
   "cell_type": "markdown",
   "metadata": {},
   "source": [
    "Если же в строке нет ничего после пробела, в группу ничего не попадет. Но совпадение будет, так как в регулярном выражении описано, что группа опциональна:"
   ]
  },
  {
   "cell_type": "code",
   "execution_count": null,
   "metadata": {},
   "outputs": [],
   "source": [
    "line = '100     '\n",
    "\n",
    "match = re.search(r'(\\d+) +(\\w+)?', line)\n",
    "\n",
    "match.groups()"
   ]
  },
  {
   "cell_type": "markdown",
   "metadata": {},
   "source": [
    "Соответственно, для второй группы значением будет `None`.\n",
    "\n",
    "Если передать методу groups значение `default`, оно будет возвращаться вместо `None`:"
   ]
  },
  {
   "cell_type": "code",
   "execution_count": null,
   "metadata": {},
   "outputs": [],
   "source": [
    "line = '100     '\n",
    "\n",
    "match = re.search(r'(\\d+) +(\\w+)?', line)\n",
    "\n",
    "print(match.groups(default=0))\n",
    "print(match.groups(default))"
   ]
  }
 ],
 "metadata": {
  "language_info": {
   "name": "python"
  },
  "orig_nbformat": 4
 },
 "nbformat": 4,
 "nbformat_minor": 2
}
