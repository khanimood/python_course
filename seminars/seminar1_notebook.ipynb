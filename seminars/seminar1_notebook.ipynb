{
 "cells": [
  {
   "cell_type": "markdown",
   "metadata": {},
   "source": [
    "# Практическое занятие 1. Основные типы данных Python. Control structures\n",
    "\n",
    "# Основные типы данных Python\n",
    "\n",
    "> Перед выполнением задания скопировать себе данный файл и переименовать его в свои ФИО. Все задания выполнять в скопированном notebook'е в блоках с кодом. Конечный файл должен быть сохранен со всеми выполненными блоками кода."
   ]
  },
  {
   "cell_type": "markdown",
   "metadata": {},
   "source": [
    "## Задание 1.1\n",
    "\n",
    "Используя подготовленную строку `nat`, получить новую строку, в которой в имени интерфейса вместо `FastEthernet` написано `GigabitEthernet`. "
   ]
  },
  {
   "cell_type": "code",
   "execution_count": null,
   "metadata": {},
   "outputs": [],
   "source": [
    "nat = \"ip nat inside source list ACL interface FastEthernet0/1 overload\""
   ]
  },
  {
   "cell_type": "markdown",
   "metadata": {},
   "source": [
    "## Задание 1.2\n",
    "\n",
    "Преобразовать строку в переменной `mac` из формата `XXXX:XXXX:XXXX` в формат `XXXX.XXXX.XXXX`"
   ]
  },
  {
   "cell_type": "code",
   "execution_count": null,
   "metadata": {},
   "outputs": [],
   "source": [
    "mac = \"AAAA:BBBB:CCCC\""
   ]
  },
  {
   "cell_type": "markdown",
   "metadata": {},
   "source": [
    "## Задание 1.3\n",
    "\n",
    "Получить из строки `config` такой список VLANов:\n",
    "\n",
    "```\n",
    "['1', '3', '10', '20', '30', '100']\n",
    "```\n",
    "\n",
    "Тут очень важный момент, что надо получить именно список (тип данных), а не, например, строку, которая похожа на показанный список."
   ]
  },
  {
   "cell_type": "code",
   "execution_count": null,
   "metadata": {},
   "outputs": [],
   "source": [
    "config = \"switchport trunk allowed vlan 1,3,10,20,30,100\""
   ]
  },
  {
   "cell_type": "markdown",
   "metadata": {},
   "source": [
    "## Задание 1.4\n",
    "\n",
    "Список `vlans` это список VLANов, собранных со всех устройств сети, поэтому в списке есть повторяющиеся номера VLAN.\n",
    "\n",
    "Из списка `vlans` нужно получить новый список уникальных номеров VLANов, отсортированный по возрастанию номеров. Для получения итогового списка нельзя удалять конкретные vlanы вручную."
   ]
  },
  {
   "cell_type": "code",
   "execution_count": null,
   "metadata": {},
   "outputs": [],
   "source": [
    "vlans = [10, 20, 30, 1, 2, 100, 10, 30, 3, 4, 10]"
   ]
  },
  {
   "cell_type": "markdown",
   "metadata": {},
   "source": [
    "## Задание 1.5\n",
    "\n",
    "Из строк `command1` и `command2` получить список VLANов, которые есть и в команде `command1` и в команде `command2` (пересечение).\n",
    "\n",
    "В данном случае, результатом должен быть такой список: `['1', '3', '8']`"
   ]
  },
  {
   "cell_type": "code",
   "execution_count": null,
   "metadata": {},
   "outputs": [],
   "source": [
    "command1 = \"switchport trunk allowed vlan 1,2,3,5,8\"\n",
    "command2 = \"switchport trunk allowed vlan 1,3,8,9\""
   ]
  },
  {
   "cell_type": "markdown",
   "metadata": {},
   "source": [
    "## Задание 1.6\n",
    "\n",
    "Обработать строку `ospf_route` и вывести информацию на стандартный поток вывода в виде:\n",
    "\n",
    "```\n",
    "Prefix                10.0.24.0/24\n",
    "AD/Metric             110/41\n",
    "Next-Hop              10.0.13.3\n",
    "Last update           3d18h\n",
    "Outbound Interface    FastEthernet0/0\n",
    "```"
   ]
  },
  {
   "cell_type": "code",
   "execution_count": null,
   "metadata": {},
   "outputs": [],
   "source": [
    "ospf_route = \"       10.0.24.0/24 [110/41] via 10.0.13.3, 3d18h, FastEthernet0/0\""
   ]
  },
  {
   "cell_type": "markdown",
   "metadata": {},
   "source": [
    "## Задание 1.7\n",
    "\n",
    "Преобразовать MAC-адрес в строке `mac` в двоичную строку такого вида: „101010101010101010111011101110111100110011001100“"
   ]
  },
  {
   "cell_type": "code",
   "execution_count": null,
   "metadata": {},
   "outputs": [],
   "source": [
    "mac = \"AAAA:BBBB:CCCC\""
   ]
  },
  {
   "cell_type": "markdown",
   "metadata": {},
   "source": [
    "## Задание 1.8\n",
    "\n",
    "Преобразовать IP-адрес в переменной `ip` в двоичный формат и вывести на стандартный поток вывода вывод столбцами, таким образом:\n",
    "\n",
    "* первой строкой должны идти десятичные значения байтов\n",
    "* второй строкой двоичные значения\n",
    "\n",
    "Вывод должен быть упорядочен также, как в примере:\n",
    "\n",
    "* столбцами\n",
    "* ширина столбца 10 символов (в двоичном формате надо добавить два пробела между столбцами для разделения октетов между собой)\n",
    "\n",
    "Пример вывода для адреса 10.1.1.1:\n",
    "\n",
    "```\n",
    "10        1         1         1\n",
    "00001010  00000001  00000001  00000001\n",
    "```"
   ]
  },
  {
   "cell_type": "code",
   "execution_count": null,
   "metadata": {},
   "outputs": [],
   "source": [
    "ip = \"192.168.3.1\""
   ]
  },
  {
   "cell_type": "markdown",
   "metadata": {},
   "source": [
    "# Control structures\n",
    "\n",
    "## Задание 2.1\n",
    "\n",
    "Список mac содержит MAC-адреса в формате `XXXX:XXXX:XXXX`. Однако, в оборудовании cisco MAC-адреса используются в формате `XXXX.XXXX.XXXX`.\n",
    "\n",
    "Написать код, который преобразует MAC-адреса в формат cisco и добавляет их в новый список. "
   ]
  },
  {
   "cell_type": "code",
   "execution_count": null,
   "metadata": {},
   "outputs": [],
   "source": [
    "mac = [\"aabb:cc80:7000\", \"aabb:dd80:7340\", \"aabb:ee80:7000\", \"aabb:ff80:7000\"]"
   ]
  },
  {
   "cell_type": "markdown",
   "metadata": {},
   "source": [
    "## Задание 2.2\n",
    "\n",
    "1. Запросить у пользователя ввод IP-адреса в формате 10.0.1.1\n",
    "2. В зависимости от типа адреса (описаны ниже), вывести на стандартный поток вывода:\n",
    "    * «unicast» - если первый байт в диапазоне 1-223\n",
    "    * «multicast» - если первый байт в диапазоне 224-239\n",
    "    * «local broadcast» - если IP-адрес равен 255.255.255.255\n",
    "    * «unassigned» - если IP-адрес равен 0.0.0.0\n",
    "    * «unused» - во всех остальных случаях"
   ]
  },
  {
   "cell_type": "code",
   "execution_count": null,
   "metadata": {},
   "outputs": [],
   "source": []
  },
  {
   "cell_type": "markdown",
   "metadata": {},
   "source": [
    "## Задание 2.2a\n",
    "\n",
    "Сделать копию скрипта задания 2.2.\n",
    "\n",
    "Добавить проверку введенного IP-адреса. Адрес считается корректно заданным, если он:\n",
    "\n",
    "    * состоит из 4 чисел (а не букв или других символов)\n",
    "    * числа разделенны точкой\n",
    "    * каждое число в диапазоне от 0 до 255\n",
    "\n",
    "Если адрес задан неправильно, выводить сообщение: «Неправильный IP-адрес». Сообщение «Неправильный IP-адрес» должно выводиться только один раз, даже если несколько пунктов выше не выполнены."
   ]
  },
  {
   "cell_type": "code",
   "execution_count": null,
   "metadata": {},
   "outputs": [],
   "source": []
  },
  {
   "cell_type": "markdown",
   "metadata": {},
   "source": [
    "## Задание 2.2b\n",
    "\n",
    "Сделать копию скрипта задания 2.2a.\n",
    "\n",
    "Дополнить скрипт: Если адрес был введен неправильно, запросить адрес снова."
   ]
  },
  {
   "cell_type": "code",
   "execution_count": null,
   "metadata": {},
   "outputs": [],
   "source": []
  },
  {
   "cell_type": "markdown",
   "metadata": {},
   "source": [
    "## Задание 2.3\n",
    "\n",
    "В скрипте ниже сделан генератор конфигурации для access-портов. Сделать аналогичный генератор конфигурации для портов trunk.\n",
    "\n",
    "В транках ситуация усложняется тем, что VLANов может быть много, и надо понимать, что с ним делать. Поэтому в соответствии каждому порту стоит список и первый (нулевой) элемент списка указывает как воспринимать номера VLAN, которые идут дальше.\n",
    "\n",
    "Пример значения и соответствующей команды:\n",
    "\n",
    "* [«add», «10», «20»] - команда switchport trunk allowed vlan add 10,20\n",
    "* [«del», «17»] - команда switchport trunk allowed vlan remove 17\n",
    "* [«only», «11», «30»] - команда switchport trunk allowed vlan 11,30\n",
    "\n",
    "Задача для портов 0/1, 0/2, 0/4:\n",
    "\n",
    "* сгенерировать конфигурацию на основе шаблона trunk_template\n",
    "* с учетом ключевых слов add, del, only\n",
    "\n",
    "Код не должен привязываться к конкретным номерам портов. То есть, если в словаре trunk будут другие номера интерфейсов, код должен работать.\n",
    "\n",
    "Для данных в словаре trunk_template вывод на стандартный поток вывода должен быть таким:\n",
    "\n",
    "```\n",
    "interface FastEthernet 0/1\n",
    " switchport trunk encapsulation dot1q\n",
    " switchport mode trunk\n",
    " switchport trunk allowed vlan add 10,20\n",
    "interface FastEthernet 0/2\n",
    " switchport trunk encapsulation dot1q\n",
    " switchport mode trunk\n",
    " switchport trunk allowed vlan 11,30\n",
    "interface FastEthernet 0/4\n",
    " switchport trunk encapsulation dot1q\n",
    " switchport mode trunk\n",
    " switchport trunk allowed vlan remove 17\n",
    "```"
   ]
  },
  {
   "cell_type": "code",
   "execution_count": null,
   "metadata": {},
   "outputs": [],
   "source": [
    "access_template = [\n",
    "    \"switchport mode access\",\n",
    "    \"switchport access vlan\",\n",
    "    \"spanning-tree portfast\",\n",
    "    \"spanning-tree bpduguard enable\",\n",
    "]\n",
    "\n",
    "trunk_template = [\n",
    "    \"switchport trunk encapsulation dot1q\",\n",
    "    \"switchport mode trunk\",\n",
    "    \"switchport trunk allowed vlan\",\n",
    "]\n",
    "\n",
    "access = {\"0/12\": \"10\", \"0/14\": \"11\", \"0/16\": \"17\", \"0/17\": \"150\"}\n",
    "trunk = {\"0/1\": [\"add\", \"10\", \"20\"], \"0/2\": [\"only\", \"11\", \"30\"], \"0/4\": [\"del\", \"17\"]}\n",
    "\n",
    "for intf, vlan in access.items():\n",
    "    print(\"interface FastEthernet\" + intf)\n",
    "    for command in access_template:\n",
    "        if command.endswith(\"access vlan\"):\n",
    "            print(f\" {command} {vlan}\")\n",
    "        else:\n",
    "            print(f\" {command}\")"
   ]
  }
 ],
 "metadata": {
  "interpreter": {
   "hash": "aee8b7b246df8f9039afb4144a1f6fd8d2ca17a180786b69acc140d282b71a49"
  },
  "kernelspec": {
   "display_name": "Python 3.10.2 64-bit",
   "language": "python",
   "name": "python3"
  },
  "language_info": {
   "name": "python",
   "version": "3.10.2"
  },
  "orig_nbformat": 4
 },
 "nbformat": 4,
 "nbformat_minor": 2
}
