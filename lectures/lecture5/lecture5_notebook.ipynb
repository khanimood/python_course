{
 "cells": [
  {
   "cell_type": "markdown",
   "metadata": {},
   "source": [
    "# Лекция 5. Работа с файлами (расширенная лекция). Стандарт Unicode.\n",
    "\n",
    "Программы, которые мы пишем, не изолированы в себе. Они скачивают данные из Интернета, читают и записывают данные на диск, передают данные через сеть.\n",
    "\n",
    "Поэтому очень важно понимать разницу между тем, как компьютер хранит и передает данные, и как эти данные воспринимает человек. Мы воспринимаем текст, а компьютер - байты.\n",
    "\n",
    "В Python 3, соответственно, есть две концепции:\n",
    "\n",
    "* текст - неизменяемая последовательность Unicode-символов. Для хранения этих символов используется тип строка (`str`)\n",
    "* данные - неизменяемая последовательность байтов. Для хранения используется тип `bytes`\n",
    "\n",
    "> Более корректно будет сказать, что текст - это неизменяемая последовательность кодов (codepoints) Unicode."
   ]
  },
  {
   "cell_type": "markdown",
   "metadata": {},
   "source": [
    "# Стандарт Юникод\n",
    "\n",
    "Юникод - это стандарт, который описывает представление и кодировку почти всех языков и других символов.\n",
    "\n",
    "Несколько фактов про Юникод:\n",
    "\n",
    "* стандарт версии 14.0 (сентябрь 2021) описывает 144 697 кодов и насчитывает 159 письменностей\n",
    "* каждый код - это номер, который соответствует определенному символу\n",
    "* стандарт также определяет кодировки - способ представления кода символа в байтах\n",
    "\n",
    "Каждому символу в Юникод соответствует определенный код. Это число, которое обычно записывается таким образом: `U+0073`, где `0073` - это шестнадцатеричные цифры.\n",
    "\n",
    "Коды в стандарте Юникод разделены на несколько областей. Область с кодами от `U+0000` до `U+007F` содержит символы набора ASCII, и коды этих символов совпадают с их кодами в ASCII. Далее расположены области символов других систем письменности, знаки пунктуации и технические символы. Часть кодов зарезервирована для использования в будущем. \n",
    "\n",
    "Кроме кода, у каждого символа есть свое уникальное имя. Например, букве «s» соответствует код `U+0073` и имя «LATIN SMALL LETTER S».\n",
    "\n",
    "Примеры кодов, имен и соответствующих символов:\n",
    "\n",
    "* `U+0073`, «LATIN SMALL LETTER S» - s\n",
    "* `U+00F6`, «LATIN SMALL LETTER O WITH DIAERESIS» - ö\n",
    "* `U+1F383`, «JACK-O-LANTERN» - 🎃\n",
    "* `U+2615`, «HOT BEVERAGE» - ☕\n",
    "* `U+1f600`, «GRINNING FACE» - 😀\n",
    "\n",
    "# Кодировки\n",
    "\n",
    "Кодировки позволяют записывать код символа в байтах.\n",
    "\n",
    "Юникод поддерживает несколько кодировок:\n",
    "\n",
    "* UTF-8\n",
    "* UTF-16\n",
    "* UTF-32\n",
    "\n",
    "Одна из самых популярных кодировок на сегодняшний день - UTF-8. Эта кодировка использует переменное количество байт для записи символов Юникод.\n",
    "\n",
    "Примеры символов Юникод и их представление в байтах в кодировке UTF-8:\n",
    "\n",
    "* H - `48`\n",
    "* i - `69`\n",
    "* 🛀 - `01 f6 c0`\n",
    "* 🚀 - `01 f6 80`\n",
    "* ☃ - `26 03`"
   ]
  },
  {
   "cell_type": "markdown",
   "metadata": {},
   "source": [
    "# Юникод в Python 3\n",
    "\n",
    "В Python 3 есть:\n",
    "\n",
    "* строки - неизменяемая последовательность Unicode-символов. Для хранения этих символов используется тип строка (str)\n",
    "* байты - неизменяемая последовательность байтов. Для хранения используется тип bytes\n",
    "\n",
    "## Строки\n",
    "\n",
    "Так как строки - это последовательность кодов Юникод, можно записать строку разными способами.\n",
    "\n",
    "Символ Юникод можно записать, используя его имя:"
   ]
  },
  {
   "cell_type": "code",
   "execution_count": null,
   "metadata": {},
   "outputs": [],
   "source": [
    "\"\\N{LATIN SMALL LETTER O WITH DIAERESIS}\""
   ]
  },
  {
   "cell_type": "markdown",
   "metadata": {},
   "source": [
    "Или использовав такой формат:"
   ]
  },
  {
   "cell_type": "code",
   "execution_count": null,
   "metadata": {},
   "outputs": [],
   "source": [
    "\"\\u00F6\""
   ]
  },
  {
   "cell_type": "markdown",
   "metadata": {},
   "source": [
    "Строку можно записать как последовательность кодов Юникод:"
   ]
  },
  {
   "cell_type": "code",
   "execution_count": null,
   "metadata": {},
   "outputs": [],
   "source": [
    "hi1 = 'привет'\n",
    "hi2 = '\\u043f\\u0440\\u0438\\u0432\\u0435\\u0442'\n",
    "hi1 == hi2"
   ]
  },
  {
   "cell_type": "markdown",
   "metadata": {},
   "source": [
    "Функция `ord` возвращает значение кода Unicode для символа. А функция `chr` возвращает символ Юникод, который соответствует коду."
   ]
  },
  {
   "cell_type": "code",
   "execution_count": null,
   "metadata": {},
   "outputs": [],
   "source": [
    "print('Функция ord: ' + str(ord('ö')))\n",
    "print('Функция char: ' + str(chr(246)))"
   ]
  },
  {
   "cell_type": "markdown",
   "metadata": {},
   "source": [
    "## Байты\n",
    "\n",
    "Тип bytes - это неизменяемая последовательность байтов.\n",
    "\n",
    "Байты обозначаются так же, как строки, но с добавлением буквы `b` перед строкой:"
   ]
  },
  {
   "cell_type": "code",
   "execution_count": null,
   "metadata": {},
   "outputs": [],
   "source": [
    "b1 = b'\\xd0\\xb4\\xd0\\xb0'\n",
    "type(b1)"
   ]
  },
  {
   "cell_type": "markdown",
   "metadata": {},
   "source": [
    "В Python байты, которые соответствуют символам ASCII, отображаются как эти символы, а не как соответствующие им байты. Это может немного путать, но всегда можно распознать тип bytes по букве `b`:\n",
    "\n",
    "> Если попытаться написать не ASCII-символ в байтовом литерале, возникнет ошибка"
   ]
  },
  {
   "cell_type": "code",
   "execution_count": null,
   "metadata": {},
   "outputs": [],
   "source": [
    "bytes1 = b'hello'\n",
    "bytes1.hex()\n",
    "bytes2 = b'\\x68\\x65\\x6c\\x6c\\x6f'"
   ]
  },
  {
   "cell_type": "markdown",
   "metadata": {},
   "source": [
    "# Конвертация между байтами и строками\n",
    "\n",
    "Избежать работы с байтами нельзя. Например, при работе с сетью или файловой системой, чаще всего, результат возвращается в байтах.\n",
    "\n",
    "Соответственно, надо знать, как выполнять преобразование байтов в строку и наоборот. Для этого и нужна кодировка.\n",
    "\n",
    "Кодировку можно представлять как ключ шифрования, который указывает:\n",
    "\n",
    "* как «зашифровать» строку в байты (str -> bytes). Используется метод `encode` (похож на `encrypt`)\n",
    "* как «расшифровать» байты в строку (bytes -> str). Используется метод `decode` (похож на `decrypt`)\n",
    "\n",
    "Эта аналогия позволяет понять, что преобразования строка-байты и байты-строка должны использовать одинаковую кодировку.\n",
    "\n",
    "## `encode`, `decode`\n",
    "\n",
    "Для преобразования строки в байты используется метод `encode`. \n",
    "\n",
    "Чтобы получить строку из байт, используется метод `decode`."
   ]
  },
  {
   "cell_type": "code",
   "execution_count": null,
   "metadata": {},
   "outputs": [],
   "source": [
    "hi = 'привет'\n",
    "hi_bytes = hi.encode('utf-8')\n",
    "print(hi_bytes)\n",
    "hi == hi_bytes.decode('utf-8')"
   ]
  },
  {
   "cell_type": "markdown",
   "metadata": {},
   "source": [
    "## `str.encode`, `bytes.decode`\n",
    "\n",
    "Метод `encode` есть также в классе `str` (как и другие методы работы со строками).\n",
    "\n",
    "А метод `decode` есть у класса `bytes` (как и другие методы).\n",
    "\n",
    "> В этих методах кодировка может указываться как ключевой аргумент или как позиционный."
   ]
  },
  {
   "cell_type": "code",
   "execution_count": null,
   "metadata": {},
   "outputs": [],
   "source": [
    "hi = 'привет'\n",
    "hi_bytes = str.encode(hi, encoding='utf-8')\n",
    "print(hi_bytes)\n",
    "hi == bytes.decode(hi_bytes, 'utf-8')"
   ]
  },
  {
   "cell_type": "markdown",
   "metadata": {},
   "source": [
    "Как работать с Юникодом и байтами\n",
    "\n",
    "Есть очень простое правило, придерживаясь которого, можно избежать, как минимум, части проблем. Оно называется «Юникод-сэндвич»:\n",
    "\n",
    "байты, которые программа считывает, надо как можно раньше преобразовать в Юникод (строку)\n",
    "внутри программы работать с Юникод\n",
    "Юникод надо преобразовать в байты как можно позже, перед передачей"
   ]
  },
  {
   "cell_type": "markdown",
   "metadata": {},
   "source": [
    "## Как работать с Юникодом и байтами\n",
    "\n",
    "Есть очень простое правило, придерживаясь которого, можно избежать, как минимум, части проблем. Оно называется «Юникод-сэндвич»:\n",
    "\n",
    "* байты, которые программа считывает, надо как можно раньше преобразовать в Юникод (строку)\n",
    "* внутри программы работать с Юникод\n",
    "* Юникод надо преобразовать в байты как можно позже, перед передачей"
   ]
  },
  {
   "cell_type": "markdown",
   "metadata": {},
   "source": [
    "# Примеры конвертации между байтами и строками\n",
    "\n",
    "Рассмотрим несколько примеров работы с байтами и конвертации байт в строки.\n",
    "\n",
    "## `subprocess`\n",
    "\n",
    "Модуль `subprocess` возвращает результат команды в виде байт. Если дальше необходимо работать с этим выводом, надо сразу конвертировать его в строку."
   ]
  },
  {
   "cell_type": "code",
   "execution_count": null,
   "metadata": {},
   "outputs": [],
   "source": [
    "import subprocess\n",
    "\n",
    "result = subprocess.run(['ping', '-c', '3', '-n', '8.8.8.8'], stdout=subprocess.PIPE)\n",
    "print(result.stdout, end='\\n'+'-'*80+'\\n')\n",
    "\n",
    "output = result.stdout.decode('utf-8')\n",
    "print(output)"
   ]
  },
  {
   "cell_type": "markdown",
   "metadata": {},
   "source": [
    "Модуль `subprocess` поддерживает еще один вариант преобразования - параметр `encoding`. Если указать его при вызове функции `run`, результат будет получен в виде строки:"
   ]
  },
  {
   "cell_type": "code",
   "execution_count": null,
   "metadata": {},
   "outputs": [],
   "source": [
    "import subprocess\n",
    "\n",
    "result = subprocess.run(['ping', '-c', '3', '-n', '8.8.8.8'], stdout=subprocess.PIPE, encoding='utf-8')\n",
    "\n",
    "print(result.stdout)"
   ]
  },
  {
   "cell_type": "markdown",
   "metadata": {},
   "source": [
    "## Работа с файлами\n",
    "\n",
    "В предыдущей лекции при работе с файлами использовалась такая конструкция:\n",
    "\n",
    "```\n",
    "with open(filename) as f:\n",
    "    for line in f:\n",
    "        print(line)\n",
    "```\n",
    "\n",
    "Но на самом деле, при чтении файла происходит конвертация байт в строки. И при этом использовалась кодировка по умолчанию:"
   ]
  },
  {
   "cell_type": "code",
   "execution_count": null,
   "metadata": {},
   "outputs": [],
   "source": [
    "import locale\n",
    "\n",
    "locale.getpreferredencoding()"
   ]
  },
  {
   "cell_type": "markdown",
   "metadata": {},
   "source": [
    "Кодировка по умолчанию в файле:"
   ]
  },
  {
   "cell_type": "code",
   "execution_count": null,
   "metadata": {},
   "outputs": [],
   "source": [
    "f = open('r1.txt')\n",
    "f"
   ]
  },
  {
   "cell_type": "markdown",
   "metadata": {},
   "source": [
    "При работе с файлами лучше явно указывать кодировку, так как в разных ОС она может отличаться:"
   ]
  },
  {
   "cell_type": "code",
   "execution_count": null,
   "metadata": {},
   "outputs": [],
   "source": [
    "with open('r1.txt', encoding='utf-8') as f:\n",
    "    for line in f:\n",
    "        print(line, end='')"
   ]
  },
  {
   "cell_type": "markdown",
   "metadata": {},
   "source": [
    "## Выводы\n",
    "\n",
    "Эти примеры показаны тут для того, чтобы показать, что разные модули могут по-разному подходить к вопросу конвертации между строками и байтами. И разные функции и методы этих модулей могут ожидать аргументы и возвращать значения разных типов. Однако все эти вещи написаны в документации."
   ]
  },
  {
   "cell_type": "markdown",
   "metadata": {},
   "source": [
    "# Ошибки при конвертации\n",
    "\n",
    "При конвертации между строками и байтами очень важно точно знать, какая кодировка используется, а также знать о возможностях разных кодировок.\n",
    "\n",
    "Например, кодировка ASCII не может преобразовать в байты кириллицу:"
   ]
  },
  {
   "cell_type": "code",
   "execution_count": null,
   "metadata": {},
   "outputs": [],
   "source": [
    "hi_unicode = 'привет'\n",
    "hi_unicode.encode('ascii')"
   ]
  },
  {
   "cell_type": "markdown",
   "metadata": {},
   "source": [
    "Аналогично, если строка «привет» преобразована в байты, и попробовать преобразовать ее в строку с помощью ASCII, тоже получим ошибку:"
   ]
  },
  {
   "cell_type": "code",
   "execution_count": null,
   "metadata": {},
   "outputs": [],
   "source": [
    "hi_unicode = 'привет'\n",
    "hi_bytes = hi_unicode.encode('utf-8')\n",
    "hi_bytes.decode('ascii')"
   ]
  },
  {
   "cell_type": "markdown",
   "metadata": {},
   "source": [
    "Еще один вариант ошибки, когда используются разные кодировки для преобразований:"
   ]
  },
  {
   "cell_type": "code",
   "execution_count": null,
   "metadata": {},
   "outputs": [],
   "source": [
    "de_hi_unicode = 'grüezi'\n",
    "utf_16 = de_hi_unicode.encode('utf-16')\n",
    "utf_16.decode('utf-8')"
   ]
  },
  {
   "cell_type": "markdown",
   "metadata": {},
   "source": [
    "Наличие ошибок - это хорошо. Они явно говорят, в чем проблема. Хуже, когда получается так:"
   ]
  },
  {
   "cell_type": "code",
   "execution_count": null,
   "metadata": {},
   "outputs": [],
   "source": [
    "hi_unicode = 'привет'\n",
    "hi_bytes = hi_unicode.encode('utf-8')\n",
    "print(hi_bytes)\n",
    "print(hi_bytes.decode('utf-16'))"
   ]
  },
  {
   "cell_type": "markdown",
   "metadata": {},
   "source": [
    "## Обработка ошибок\n",
    "\n",
    "У методов `encode` и `decode` есть режимы обработки ошибок, которые указывают, как реагировать на ошибку преобразования.\n",
    "\n",
    "### Параметр `errors` в `encode`\n",
    "\n",
    "По умолчанию `encode` использует режим `strict` - при возникновении ошибок кодировки генерируется исключение `UnicodeError`. Примеры такого поведения были выше.\n",
    "\n",
    "Вместо этого режима можно использовать `replace`, чтобы заменить символ знаком вопроса:"
   ]
  },
  {
   "cell_type": "code",
   "execution_count": null,
   "metadata": {},
   "outputs": [],
   "source": [
    "de_hi_unicode = 'grüezi'\n",
    "de_hi_unicode.encode('ascii', 'replace')"
   ]
  },
  {
   "cell_type": "markdown",
   "metadata": {},
   "source": [
    "Или `namereplace`, чтобы заменить символ именем:"
   ]
  },
  {
   "cell_type": "code",
   "execution_count": null,
   "metadata": {},
   "outputs": [],
   "source": [
    "de_hi_unicode = 'grüezi'\n",
    "de_hi_unicode.encode('ascii', 'namereplace')"
   ]
  },
  {
   "cell_type": "markdown",
   "metadata": {},
   "source": [
    "Кроме того, можно полностью игнорировать символы, которые нельзя закодировать:"
   ]
  },
  {
   "cell_type": "code",
   "execution_count": null,
   "metadata": {},
   "outputs": [],
   "source": [
    "de_hi_unicode = 'grüezi'\n",
    "de_hi_unicode.encode('ascii', 'ignore')"
   ]
  },
  {
   "cell_type": "markdown",
   "metadata": {},
   "source": [
    "### Параметр `errors` в `decode`\n",
    "\n",
    "В методе `decode` по умолчанию тоже используется режим `strict` и генерируется исключение `UnicodeDecodeError`.\n",
    "\n",
    "Если изменить режим на `ignore`, как и в `encode`, символы будут просто игнорироваться:"
   ]
  },
  {
   "cell_type": "code",
   "execution_count": null,
   "metadata": {},
   "outputs": [],
   "source": [
    "de_hi_unicode = 'grüezi'\n",
    "de_hi_utf8 = de_hi_unicode.encode('utf-8')\n",
    "print(de_hi_utf8)"
   ]
  },
  {
   "cell_type": "markdown",
   "metadata": {},
   "source": [
    "Режим `replace` заменит символы:"
   ]
  },
  {
   "cell_type": "code",
   "execution_count": null,
   "metadata": {},
   "outputs": [],
   "source": [
    "de_hi_unicode = 'grüezi'\n",
    "de_hi_utf8 = de_hi_unicode.encode('utf-8')\n",
    "de_hi_utf8.decode('ascii', 'replace')"
   ]
  }
 ],
 "metadata": {
  "interpreter": {
   "hash": "aee8b7b246df8f9039afb4144a1f6fd8d2ca17a180786b69acc140d282b71a49"
  },
  "kernelspec": {
   "display_name": "Python 3.10.2 64-bit",
   "language": "python",
   "name": "python3"
  },
  "language_info": {
   "codemirror_mode": {
    "name": "ipython",
    "version": 3
   },
   "file_extension": ".py",
   "mimetype": "text/x-python",
   "name": "python",
   "nbconvert_exporter": "python",
   "pygments_lexer": "ipython3",
   "version": "3.10.2"
  },
  "orig_nbformat": 4
 },
 "nbformat": 4,
 "nbformat_minor": 2
}
