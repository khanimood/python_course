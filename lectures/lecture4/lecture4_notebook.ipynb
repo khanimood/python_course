{
 "cells": [
  {
   "cell_type": "markdown",
   "id": "a9186e7e-90a5-486e-bcfa-6ef733ae17c4",
   "metadata": {},
   "source": [
    "# Лекция 4. Создание базовых скриптов. Работа с файлами\n",
    "\n",
    "# Создание базовых скриптов\n",
    "\n",
    "Если говорить в целом, то скрипт - это обычный файл. В этом файле хранится последовательность команд, которые необходимо выполнить.\n",
    "\n",
    "Начнем с базового скрипта. Выведем на стандартный поток вывода несколько строк.\n",
    "\n",
    "Для этого надо создать файл access_template.py с таким содержимым:"
   ]
  },
  {
   "cell_type": "code",
   "execution_count": null,
   "id": "4b37696e-1a95-48d4-ae96-af74a651cd28",
   "metadata": {},
   "outputs": [],
   "source": [
    "access_template = ['switchport mode access',\n",
    "                   'switchport access vlan {}',\n",
    "                   'switchport nonegotiate',\n",
    "                   'spanning-tree portfast',\n",
    "                   'spanning-tree bpduguard enable']\n",
    "\n",
    "print('\\n'.join(access_template).format(5))"
   ]
  },
  {
   "cell_type": "markdown",
   "id": "ca7a680b-f3a3-447e-8b38-0fe93f4fada4",
   "metadata": {},
   "source": [
    "Сначала элементы списка объединяются в строку, которая разделена символом `\\n`, а в строку подставляется номер VLAN, используя форматирование строк.\n",
    "\n",
    "После этого надо сохранить файл и перейти в командную строку."
   ]
  },
  {
   "cell_type": "markdown",
   "id": "2e6b5891-d4f3-4b99-a05e-e27818a767ca",
   "metadata": {},
   "source": [
    "## Исполняемый файл\n",
    "\n",
    "Для того, чтобы файл был исполняемым, и не нужно было каждый раз писать python перед вызовом файла, нужно:\n",
    "\n",
    "* сделать файл исполняемым (для Linux)\n",
    "* в первой строке файла должна находиться строка `#!/usr/bin/env python{python version}`, в зависимости от того, какая версия Python используется по умолчанию\n",
    "\n",
    "Пример файла access_template_exec.py:"
   ]
  },
  {
   "cell_type": "code",
   "execution_count": null,
   "id": "f4bad9fa-0600-4953-b45f-421096164aee",
   "metadata": {},
   "outputs": [],
   "source": [
    "#!/usr/bin/env python3.10\n",
    "\n",
    "access_template = ['switchport mode access',\n",
    "                   'switchport access vlan {}',\n",
    "                   'switchport nonegotiate',\n",
    "                   'spanning-tree portfast',\n",
    "                   'spanning-tree bpduguard enable']\n",
    "\n",
    "print('\\n'.join(access_template).format(5))"
   ]
  },
  {
   "cell_type": "markdown",
   "id": "9604e48a-a992-43b2-979d-6f196cd30c65",
   "metadata": {},
   "source": [
    "После этого:\n",
    "\n",
    "```\n",
    "chmod +x access_template_exec.py\n",
    "```\n",
    "\n",
    "Теперь можно вызывать файл таким образом:\n",
    "\n",
    "```\n",
    "$ ./access_template_exec.py\n",
    "```"
   ]
  },
  {
   "cell_type": "markdown",
   "id": "882cde10-a650-42c8-a444-df24217fd7de",
   "metadata": {},
   "source": [
    "## Передача аргументов скрипту (argv)\n",
    "\n",
    "Очень часто скрипт решает какую-то общую задачу. Например, скрипт обрабатывает как-то файл конфигурации. Конечно, в таком случае не хочется каждый раз руками в скрипте править название файла.\n",
    "\n",
    "Гораздо лучше будет передавать имя файла как аргумент скрипта и затем использовать уже указанный файл.\n",
    "\n",
    "Модуль sys позволяет работать с аргументами скрипта с помощью argv.\n",
    "\n",
    "Пример access_template_argv.py:"
   ]
  },
  {
   "cell_type": "code",
   "execution_count": null,
   "id": "440031a0-cb5b-4c4f-bdaf-5c06ccdf4be6",
   "metadata": {},
   "outputs": [],
   "source": [
    "from sys import argv\n",
    "\n",
    "interface = argv[1]\n",
    "vlan = argv[2]\n",
    "\n",
    "access_template = ['switchport mode access',\n",
    "                   'switchport access vlan {}',\n",
    "                   'switchport nonegotiate',\n",
    "                   'spanning-tree portfast',\n",
    "                   'spanning-tree bpduguard enable']\n",
    "\n",
    "print('interface {}'.format(interface))\n",
    "print('\\n'.join(access_template).format(vlan))"
   ]
  },
  {
   "cell_type": "markdown",
   "id": "7a3f1bd3-f736-49e9-81de-9d542a53ab17",
   "metadata": {},
   "source": [
    "Аргументы, которые были переданы скрипту, подставляются как значения в шаблон.\n",
    "\n",
    "Тут надо пояснить несколько моментов:\n",
    "\n",
    "* argv - это список\n",
    "* все аргументы находятся в списке в виде строк\n",
    "* argv содержит не только аргументы, которые передали скрипту, но и название самого скрипта\n",
    "\n",
    "В данном случае в списке argv находятся такие элементы:\n",
    "\n",
    "```\n",
    "['access_template_argv.py', 'Gi0/7', '4']\n",
    "```\n",
    "\n",
    "Сначала идет имя самого скрипта, затем аргументы, в том же порядке."
   ]
  },
  {
   "cell_type": "markdown",
   "id": "640315f9-0e63-49e5-af24-09c642acd8cd",
   "metadata": {},
   "source": [
    "# Работа с файлами\n",
    "\n",
    "В реальной жизни для того чтобы полноценно использовать всё, что рассматривалось до этого раздела, надо разобраться как работать с файлами.\n",
    "\n",
    "При работе с сетевым оборудованием (и не только), файлами могут быть:\n",
    "\n",
    "* конфигурации (простые, не структурированные текстовые файлы)\n",
    "    * работа с ними рассматривается в этом разделе\n",
    "* шаблоны конфигураций\n",
    "    * как правило, это какой-то специальный формат файлов.\n",
    "* файлы с параметрами подключений\n",
    "    * как правило, это структурированные файлы, в каком-то определенном формате: YAML, JSON, CSV\n",
    "* другие скрипты Python\n",
    "\n",
    "В этом разделе рассматривается работа с простыми текстовыми файлами. Например, конфигурационный файл Cisco.\n",
    "\n",
    "В работе с файлами есть несколько аспектов:\n",
    "\n",
    "* открытие/закрытие\n",
    "* чтение\n",
    "* запись\n"
   ]
  },
  {
   "cell_type": "markdown",
   "id": "2ea2d956-2f16-4bab-bff4-0db5fe72ad2b",
   "metadata": {},
   "source": [
    "## Открытие файлов\n",
    "\n",
    "Для начала работы с файлом, его надо открыть.\n",
    "\n",
    "### `open`\n",
    "\n",
    "Для открытия файлов, чаще всего, используется функция `open()`:"
   ]
  },
  {
   "cell_type": "code",
   "execution_count": null,
   "id": "d5242f6b-cc4a-4410-a1fd-a99e3153d0ca",
   "metadata": {},
   "outputs": [],
   "source": [
    "file = open('file_name.txt', 'r')"
   ]
  },
  {
   "cell_type": "markdown",
   "id": "a1536de9-a101-4067-8297-f4aeb6b7ead3",
   "metadata": {},
   "source": [
    "В функции `open()`:\n",
    "\n",
    "* `'file_name.txt'` - имя файла\n",
    "* тут можно указывать не только имя, но и путь (абсолютный или относительный)\n",
    "* `'r'` - режим открытия файла\n",
    "\n",
    "Функция `open` создает объект file, к которому потом можно применять различные методы, для работы с ним.\n",
    "\n",
    "Режимы открытия файлов:\n",
    "\n",
    "* `r` - открыть файл только для чтения (значение по умолчанию)\n",
    "* `r+` - открыть файл для чтения и записи\n",
    "* `w` - открыть файл для записи\n",
    "    * если файл существует, то его содержимое удаляется\n",
    "    * если файл не существует, то создается новый\n",
    "* `w+` - открыть файл для чтения и записи\n",
    "    * если файл существует, то его содержимое удаляется\n",
    "    * если файл не существует, то создается новый\n",
    "* `a` - открыть файл для дополнения записи. Данные добавляются в конец файла\n",
    "* `a+` - открыть файл для чтения и записи. Данные добавляются в конец файла\n",
    "\n",
    ">\n",
    "> r - read; a - append; w - write\n",
    ">"
   ]
  },
  {
   "cell_type": "markdown",
   "id": "7530bee4-9843-460d-98e5-4c8e67dbfcd4",
   "metadata": {},
   "source": [
    "## Чтение файлов\n",
    "\n",
    "В Python есть несколько методов чтения файла:\n",
    "\n",
    "* `read` - считывает содержимое файла в строку\n",
    "* `readline` - считывает файл построчно\n",
    "* `readlines` - считывает строки файла и создает список из строк\n",
    "\n",
    "Посмотрим как считывать содержимое файлов, на примере файла r1.txt:\n",
    "\n",
    "```\n",
    "!\n",
    "service timestamps debug datetime msec localtime show-timezone year\n",
    "service timestamps log datetime msec localtime show-timezone year\n",
    "service password-encryption\n",
    "service sequence-numbers\n",
    "!\n",
    "no ip domain lookup\n",
    "!\n",
    "ip ssh version 2\n",
    "!\n",
    "```\n",
    "\n",
    "### `read`\n",
    "\n",
    "Метод `read` - считывает весь файл в одну строку.\n",
    "\n",
    "Пример использования метода `read`:"
   ]
  },
  {
   "cell_type": "code",
   "execution_count": null,
   "id": "8ee06fce-70ed-46a3-af74-520670636eb7",
   "metadata": {},
   "outputs": [],
   "source": [
    "f = open('r1.txt')\n",
    "f.read()"
   ]
  },
  {
   "cell_type": "markdown",
   "id": "341d9719-d357-428a-99fc-cc4b8daa71db",
   "metadata": {},
   "source": [
    "При повторном чтении файла отображается пустая строка. Так происходит из-за того, что при вызове метода `read`, считывается весь файл. И после того, как файл был считан, курсор остается в конце файла. Управлять положением курсора можно с помощью метода `seek`."
   ]
  },
  {
   "cell_type": "markdown",
   "id": "9c68dc89-11dc-4ea4-917b-3db45bd90253",
   "metadata": {},
   "source": [
    "### `readline`\n",
    "\n",
    "Построчно файл можно считать с помощью метода `readline`:"
   ]
  },
  {
   "cell_type": "code",
   "execution_count": null,
   "id": "745ceddb-dd2e-49b7-bfe4-b277b08037c4",
   "metadata": {},
   "outputs": [],
   "source": [
    "f = open('r1.txt')\n",
    "\n",
    "f.readline()"
   ]
  },
  {
   "cell_type": "markdown",
   "id": "3a7048ec-a11e-4972-b95b-8b79493bdd4b",
   "metadata": {},
   "source": [
    "Но чаще всего проще пройтись по объекту file в цикле, не используя методы `read...`:"
   ]
  },
  {
   "cell_type": "code",
   "execution_count": 9,
   "id": "600e6f8b-b0e5-4a8d-b35b-f2013062eb14",
   "metadata": {},
   "outputs": [
    {
     "name": "stdout",
     "output_type": "stream",
     "text": [
      "!\n",
      "\n",
      "service timestamps debug datetime msec localtime show-timezone year\n",
      "\n",
      "service timestamps log datetime msec localtime show-timezone year\n",
      "\n",
      "service password-encryption\n",
      "\n",
      "service sequence-numbers\n",
      "\n",
      "!\n",
      "\n",
      "no ip domain lookup\n",
      "\n",
      "!\n",
      "\n",
      "ip ssh version 2\n",
      "\n",
      "!\n"
     ]
    }
   ],
   "source": [
    "f = open('r1.txt')\n",
    "\n",
    "for line in f:\n",
    "    print(line)"
   ]
  },
  {
   "cell_type": "markdown",
   "id": "8230fec1-3706-4ac3-aec5-82f56f0f1959",
   "metadata": {},
   "source": [
    "### `readlines`\n",
    "\n",
    "Еще один полезный метод - `readlines`. Он считывает строки файла в список:"
   ]
  },
  {
   "cell_type": "code",
   "execution_count": 10,
   "id": "da7fda0e-86c2-47de-b749-81010207c9ab",
   "metadata": {},
   "outputs": [
    {
     "data": {
      "text/plain": [
       "['!\\n',\n",
       " 'service timestamps debug datetime msec localtime show-timezone year\\n',\n",
       " 'service timestamps log datetime msec localtime show-timezone year\\n',\n",
       " 'service password-encryption\\n',\n",
       " 'service sequence-numbers\\n',\n",
       " '!\\n',\n",
       " 'no ip domain lookup\\n',\n",
       " '!\\n',\n",
       " 'ip ssh version 2\\n',\n",
       " '!']"
      ]
     },
     "execution_count": 10,
     "metadata": {},
     "output_type": "execute_result"
    }
   ],
   "source": [
    "f = open('r1.txt')\n",
    "\n",
    "f.readlines()"
   ]
  },
  {
   "cell_type": "markdown",
   "id": "9297333c-a16d-406d-a06c-be3fd23d4a63",
   "metadata": {},
   "source": [
    "Если нужно получить строки файла, но без перевода строки в конце, можно воспользоваться методом `split` и как разделитель, указать символ `\\n`:"
   ]
  },
  {
   "cell_type": "markdown",
   "id": "7b1cf8cc-6aff-47c0-90c3-c41f0e178dfe",
   "metadata": {},
   "source": [
    "Обратите внимание, что последний элемент списка - пустая строка.\n",
    "\n",
    "Если перед выполнением `split`, воспользоваться методом `rstrip`, список будет без пустой строки в конце:"
   ]
  },
  {
   "cell_type": "code",
   "execution_count": 11,
   "id": "9e268d25-cdc5-4ee8-980d-015a1d860f81",
   "metadata": {},
   "outputs": [
    {
     "data": {
      "text/plain": [
       "['!',\n",
       " 'service timestamps debug datetime msec localtime show-timezone year',\n",
       " 'service timestamps log datetime msec localtime show-timezone year',\n",
       " 'service password-encryption',\n",
       " 'service sequence-numbers',\n",
       " '!',\n",
       " 'no ip domain lookup',\n",
       " '!',\n",
       " 'ip ssh version 2',\n",
       " '!']"
      ]
     },
     "execution_count": 11,
     "metadata": {},
     "output_type": "execute_result"
    }
   ],
   "source": [
    "f = open('r1.txt')\n",
    "\n",
    "f.read().rstrip().split('\\n')"
   ]
  },
  {
   "cell_type": "markdown",
   "id": "f3881c88-aa8b-4242-992c-d1fb985661c4",
   "metadata": {},
   "source": [
    "### `seek`\n",
    "\n",
    "До сих пор, файл каждый раз приходилось открывать заново, чтобы снова его считать. Так происходит из-за того, что после методов чтения, курсор находится в конце файла. И повторное чтение возвращает пустую строку.\n",
    "\n",
    "Чтобы ещё раз считать информацию из файла, нужно воспользоваться методом `seek`, который перемещает курсор в необходимое положение.\n",
    "\n",
    "Пример открытия файла и считывания содержимого:"
   ]
  },
  {
   "cell_type": "code",
   "execution_count": 15,
   "id": "0ca749aa-b10d-4094-bf78-4de47b619a13",
   "metadata": {},
   "outputs": [
    {
     "name": "stdout",
     "output_type": "stream",
     "text": [
      "!\n",
      "service timestamps debug datetime msec localtime show-timezone year\n",
      "service timestamps log datetime msec localtime show-timezone year\n",
      "service password-encryption\n",
      "service sequence-numbers\n",
      "!\n",
      "no ip domain lookup\n",
      "!\n",
      "ip ssh version 2\n",
      "!\n",
      "''\n",
      "!\n",
      "service timestamps debug datetime msec localtime show-timezone year\n",
      "service timestamps log datetime msec localtime show-timezone year\n",
      "service password-encryption\n",
      "service sequence-numbers\n",
      "!\n",
      "no ip domain lookup\n",
      "!\n",
      "ip ssh version 2\n",
      "!\n"
     ]
    }
   ],
   "source": [
    "f = open('r1.txt')\n",
    "\n",
    "print(f.read())\n",
    "print('\\'' + f.read() + '\\'')\n",
    "f.seek(0)\n",
    "print(f.read())"
   ]
  },
  {
   "cell_type": "markdown",
   "id": "cad6a201-e676-47e6-98b2-5bd063cb0238",
   "metadata": {},
   "source": [
    "## Запись файлов\n",
    "\n",
    "При записи, очень важно определиться с режимом открытия файла, чтобы случайно его не удалить:\n",
    "\n",
    "* `w` - открыть файл для записи. Если файл существует, то его содержимое удаляется\n",
    "* `a` - открыть файл для дополнения записи. Данные добавляются в конец файла\n",
    "\n",
    "При этом оба режима создают файл, если он не существует.\n",
    "\n",
    "Для записи в файл используются такие методы:\n",
    "\n",
    "* `write` - записать в файл одну строку\n",
    "* `writelines` - позволяет передавать в качестве аргумента список строк\n",
    "\n",
    "### `write`\n",
    "\n",
    "Метод `write` ожидает строку, для записи.\n",
    "\n",
    "Для примера, возьмем список строк с конфигурацией:"
   ]
  },
  {
   "cell_type": "code",
   "execution_count": 1,
   "id": "3aa0a4e7-8505-4f14-a42a-c02037d7b188",
   "metadata": {},
   "outputs": [],
   "source": [
    "cfg_lines = ['!',\n",
    "            'service timestamps debug datetime msec localtime show-timezone year',\n",
    "            'service timestamps log datetime msec localtime show-timezone year',\n",
    "            'service password-encryption',\n",
    "            'service sequence-numbers',\n",
    "            '!',\n",
    "            'no ip domain lookup',\n",
    "            '!',\n",
    "            'ip ssh version 2',\n",
    "            '!']\n",
    "\n",
    "f = open('r2.txt', 'w')\n",
    "\n",
    "cfg_lines_as_str = '\\n'.join(cfg_lines)\n",
    "\n",
    "f.write(cfg_lines_as_str)\n",
    "f.close()"
   ]
  },
  {
   "cell_type": "markdown",
   "id": "378c6295-3082-4906-a238-9e5f702ab8e8",
   "metadata": {},
   "source": [
    "### `writelines`\n",
    "\n",
    "Метод `writelines` ожидает список строк, как аргумент.\n",
    "\n",
    "Запись списка строк cfg_lines в файл:"
   ]
  },
  {
   "cell_type": "code",
   "execution_count": null,
   "id": "f009a1c7-a787-423b-ae30-1bba9c394cf9",
   "metadata": {},
   "outputs": [],
   "source": [
    "cfg_lines = ['!',\n",
    "            'service timestamps debug datetime msec localtime show-timezone year',\n",
    "            'service timestamps log datetime msec localtime show-timezone year',\n",
    "            'service password-encryption',\n",
    "            'service sequence-numbers',\n",
    "            '!',\n",
    "            'no ip domain lookup',\n",
    "            '!',\n",
    "            'ip ssh version 2',\n",
    "            '!']\n",
    "\n",
    "cfg_lines2 = []\n",
    "for line in cfg_lines:\n",
    "    cfg_lines2.append(line + '\\n')\n",
    "\n",
    "f = open('r2.txt', 'w')\n",
    "\n",
    "f.writelines(cfg_lines)\n",
    "# f.writelines(cfg_lines2)\n",
    "f.close()"
   ]
  }
 ],
 "metadata": {
  "kernelspec": {
   "display_name": "Python 3 (ipykernel)",
   "language": "python",
   "name": "python3"
  },
  "language_info": {
   "codemirror_mode": {
    "name": "ipython",
    "version": 3
   },
   "file_extension": ".py",
   "mimetype": "text/x-python",
   "name": "python",
   "nbconvert_exporter": "python",
   "pygments_lexer": "ipython3",
   "version": "3.10.2"
  }
 },
 "nbformat": 4,
 "nbformat_minor": 5
}
