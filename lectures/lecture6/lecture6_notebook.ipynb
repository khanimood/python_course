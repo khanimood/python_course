{
 "cells": [
  {
   "cell_type": "markdown",
   "metadata": {},
   "source": [
    "# Лекция 6. Работа с файлами (расширенная лекция). Чтение и запись данных в форматах CSV, JSON и YAML.\n",
    "\n",
    "В предыдущих лекциях рассматривался самый простой вариант - запись информации в обычный текстовый файл.\n",
    "\n",
    "В этой лекции рассматривается чтение и запись данных в форматах CSV, JSON и YAML:\n",
    "\n",
    "* CSV - это табличный формат представления данных. Он может быть получен, например, при экспорте данных из таблицы или базе данных. Аналогичным образом данные могут быть записаны в этом формате для последующего импорта в таблицу.\n",
    "* JSON - это формат, который очень часто используется в API. Кроме того, этот формат позволит сохранить такие структуры данных как словари или списки в структурированном формате и затем прочитать их из файла в формате JSON и получить те же структуры данных в Python.\n",
    "* Формат YAML очень часто используется для описания сценариев. Например, он используется в Ansible. Кроме того, в этом формате удобно записывать вручную параметры, которые должны считывать скрипты.\n",
    "\n",
    "> Python позволяет записывать объекты самого языка в файлы и считывать их с помощью модуля Pickle"
   ]
  },
  {
   "cell_type": "markdown",
   "metadata": {},
   "source": [
    "# Работа с файлами в формате CSV, JSON, YAML\n",
    "\n",
    "Сериализация данных - это сохранение данных в каком-то формате, чаще всего, структурированном.\n",
    "\n",
    "Например, это могут быть:\n",
    "\n",
    "* файлы в формате YAML или JSON\n",
    "* файлы в формате CSV\n",
    "* база данных\n",
    "\n",
    "В этой лекции рассматриваются форматы CSV, JSON, YAML, а в одной из последующих лекций - базы данных.\n",
    "\n",
    "Для каждого из этих форматов в Python есть модуль, который существенно упрощает работу с ними."
   ]
  },
  {
   "cell_type": "markdown",
   "metadata": {},
   "source": [
    "# Работа с файлами в формате CSV\n",
    "\n",
    "**CSV (Comma-Separated Values)** - текстовый формат, предназначенный для представления табличных данных, например, это могут быть данные из таблицы или данные из БД (реализация похожего формата от Microsoft - XLSX).\n",
    "\n",
    "В этом формате каждая строка файла - это строка таблицы. Несмотря на название формата, разделителем может быть не только запятая.\n",
    "\n",
    "И хотя у форматов с другим разделителем может быть и собственное название, например, TSV (tab separated values), тем не менее, под форматом CSV понимают, как правило, любые разделители.\n",
    "\n",
    "Пример файла в формате CSV:\n",
    "\n",
    "```csv\n",
    "\"Name\", \"Sex\", \"Age\", \"Height (in)\", \"Weight (lbs)\"\n",
    "\"Alex\", \"M\", 41, 74, 170\n",
    "\"Bert\", \"M\", 42, 68, 166\n",
    "\"Dave\", \"M\", 39, 72, 167\n",
    "\"Carl\", \"M\", 32, 70, 155\n",
    "\"Elly\", \"F\", 30, 66, 124\n",
    "\"Fran\", \"F\", 33, 66, 115\n",
    "\"Gwen\", \"F\", 26, 64, 121\n",
    "\"Hank\", \"M\", 30, 71, 158\n",
    "\"Ivan\", \"M\", 53, 72, 175\n",
    "\"Jake\", \"M\", 32, 69, 143\n",
    "\"Kate\", \"F\", 47, 69, 139\n",
    "\"Luke\", \"M\", 34, 72, 163\n",
    "\"Myra\", \"F\", 23, 62, 98\n",
    "\"Neil\", \"M\", 36, 75, 160\n",
    "\"Omar\", \"M\", 38, 70, 145\n",
    "\"Page\", \"F\", 31, 67, 135\n",
    "\"Quin\", \"M\", 29, 71, 176\n",
    "\"Ruth\", \"F\", 28, 65, 131\n",
    "```\n",
    "\n",
    "![csv](./pics/csv_example.png)\n",
    "\n",
    "В стандартной библиотеке Python есть модуль csv, который позволяет работать с файлами в CSV формате.\n",
    "\n"
   ]
  },
  {
   "cell_type": "markdown",
   "metadata": {},
   "source": [
    "## Чтение\n",
    "\n",
    "Пример чтения файла в формате CSV:"
   ]
  },
  {
   "cell_type": "code",
   "execution_count": 1,
   "metadata": {},
   "outputs": [
    {
     "name": "stdout",
     "output_type": "stream",
     "text": [
      "['Name', 'Sex', 'Age', 'Height(in)', 'Weight(lbs)']\n",
      "['Alex', 'M', '41', '74', '170']\n",
      "['Bert', 'M', '42', '68', '166']\n",
      "['Dave', 'M', '39', '72', '167']\n",
      "['Carl', 'M', '32', '70', '155']\n",
      "['Elly', 'F', '30', '66', '124']\n",
      "['Fran', 'F', '33', '66', '115']\n",
      "['Gwen', 'F', '26', '64', '121']\n",
      "['Hank', 'M', '30', '71', '158']\n",
      "['Ivan', 'M', '53', '72', '175']\n",
      "['Jake', 'M', '32', '69', '143']\n",
      "['Kate', 'F', '47', '69', '139']\n",
      "['Luke', 'M', '34', '72', '163']\n",
      "['Myra', 'F', '23', '62', '98']\n",
      "['Neil', 'M', '36', '75', '160']\n",
      "['Omar', 'M', '38', '70', '145']\n",
      "['Page', 'F', '31', '67', '135']\n",
      "['Quin', 'M', '29', '71', '176']\n",
      "['Ruth', 'F', '28', '65', '131']\n"
     ]
    }
   ],
   "source": [
    "import csv\n",
    "\n",
    "with open('./examples/people.csv') as f:\n",
    "    reader = csv.reader(f)\n",
    "    for row in reader:\n",
    "        print(row)"
   ]
  },
  {
   "cell_type": "markdown",
   "metadata": {},
   "source": [
    "В первом списке находятся названия столбцов, а в остальных соответствующие значения.\n",
    "\n",
    "Обратите внимание, что сам `csv.reader` возвращает итератор:"
   ]
  },
  {
   "cell_type": "code",
   "execution_count": 2,
   "metadata": {},
   "outputs": [
    {
     "name": "stdout",
     "output_type": "stream",
     "text": [
      "<_csv.reader object at 0x10758dfc0>\n"
     ]
    }
   ],
   "source": [
    "import csv\n",
    "\n",
    "with open('./examples/people.csv') as f:\n",
    "    reader = csv.reader(f)\n",
    "    print(reader)"
   ]
  },
  {
   "cell_type": "markdown",
   "metadata": {},
   "source": [
    "При необходимости его можно превратить в список таким образом:"
   ]
  },
  {
   "cell_type": "code",
   "execution_count": 3,
   "metadata": {},
   "outputs": [
    {
     "name": "stdout",
     "output_type": "stream",
     "text": [
      "[['Name', 'Sex', 'Age', 'Height(in)', 'Weight(lbs)'], ['Alex', 'M', '41', '74', '170'], ['Bert', 'M', '42', '68', '166'], ['Dave', 'M', '39', '72', '167'], ['Carl', 'M', '32', '70', '155'], ['Elly', 'F', '30', '66', '124'], ['Fran', 'F', '33', '66', '115'], ['Gwen', 'F', '26', '64', '121'], ['Hank', 'M', '30', '71', '158'], ['Ivan', 'M', '53', '72', '175'], ['Jake', 'M', '32', '69', '143'], ['Kate', 'F', '47', '69', '139'], ['Luke', 'M', '34', '72', '163'], ['Myra', 'F', '23', '62', '98'], ['Neil', 'M', '36', '75', '160'], ['Omar', 'M', '38', '70', '145'], ['Page', 'F', '31', '67', '135'], ['Quin', 'M', '29', '71', '176'], ['Ruth', 'F', '28', '65', '131']]\n"
     ]
    }
   ],
   "source": [
    "with open('./examples/people.csv') as f:\n",
    "    reader = csv.reader(f)\n",
    "    print(list(reader))"
   ]
  },
  {
   "cell_type": "markdown",
   "metadata": {},
   "source": [
    "Чаще всего заголовки столбцов удобней получить отдельным объектом. Это можно сделать таким образом:"
   ]
  },
  {
   "cell_type": "code",
   "execution_count": 4,
   "metadata": {},
   "outputs": [
    {
     "name": "stdout",
     "output_type": "stream",
     "text": [
      "Headers:  ['Name', 'Sex', 'Age', 'Height(in)', 'Weight(lbs)']\n",
      "['Alex', 'M', '41', '74', '170']\n",
      "['Bert', 'M', '42', '68', '166']\n",
      "['Dave', 'M', '39', '72', '167']\n",
      "['Carl', 'M', '32', '70', '155']\n",
      "['Elly', 'F', '30', '66', '124']\n",
      "['Fran', 'F', '33', '66', '115']\n",
      "['Gwen', 'F', '26', '64', '121']\n",
      "['Hank', 'M', '30', '71', '158']\n",
      "['Ivan', 'M', '53', '72', '175']\n",
      "['Jake', 'M', '32', '69', '143']\n",
      "['Kate', 'F', '47', '69', '139']\n",
      "['Luke', 'M', '34', '72', '163']\n",
      "['Myra', 'F', '23', '62', '98']\n",
      "['Neil', 'M', '36', '75', '160']\n",
      "['Omar', 'M', '38', '70', '145']\n",
      "['Page', 'F', '31', '67', '135']\n",
      "['Quin', 'M', '29', '71', '176']\n",
      "['Ruth', 'F', '28', '65', '131']\n"
     ]
    }
   ],
   "source": [
    "import csv\n",
    "\n",
    "with open('./examples/people.csv') as f:\n",
    "    reader = csv.reader(f)\n",
    "    headers = next(reader)\n",
    "    print('Headers: ', headers)\n",
    "    for row in reader:\n",
    "        print(row)"
   ]
  },
  {
   "cell_type": "markdown",
   "metadata": {},
   "source": [
    "Иногда в результате обработки гораздо удобней получить словари, в которых ключи - это названия столбцов, а значения - значения столбцов.\n",
    "\n",
    "Для этого в модуле есть `DictReader`:"
   ]
  },
  {
   "cell_type": "code",
   "execution_count": 1,
   "metadata": {},
   "outputs": [
    {
     "name": "stdout",
     "output_type": "stream",
     "text": [
      "Alex M\n",
      "Bert M\n",
      "Dave M\n",
      "Carl M\n",
      "Elly F\n",
      "Fran F\n",
      "Gwen F\n",
      "Hank M\n",
      "Ivan M\n",
      "Jake M\n",
      "Kate F\n",
      "Luke M\n",
      "Myra F\n",
      "Neil M\n",
      "Omar M\n",
      "Page F\n",
      "Quin M\n",
      "Ruth F\n"
     ]
    }
   ],
   "source": [
    "import csv\n",
    "\n",
    "with open('./examples/people.csv') as f:\n",
    "    reader = csv.DictReader(f)\n",
    "    for row in reader:\n",
    "        print(row['Name'], row['Sex'])"
   ]
  },
  {
   "cell_type": "markdown",
   "metadata": {},
   "source": [
    "## Запись\n",
    "\n",
    "Аналогичным образом с помощью модуля csv можно и записать файл в формате CSV:"
   ]
  },
  {
   "cell_type": "code",
   "execution_count": 2,
   "metadata": {},
   "outputs": [
    {
     "name": "stdout",
     "output_type": "stream",
     "text": [
      "hostname,vendor,model,location\n",
      "sw1,Cisco,3750,\"London, Best str\"\n",
      "sw2,Cisco,3850,\"Liverpool, Better str\"\n",
      "sw3,Cisco,3650,\"Liverpool, Better str\"\n",
      "sw4,Cisco,3650,\"London, Best str\"\n",
      "\n"
     ]
    }
   ],
   "source": [
    "import csv\n",
    "\n",
    "data = [['hostname', 'vendor', 'model', 'location'],\n",
    "        ['sw1', 'Cisco', '3750', 'London, Best str'],\n",
    "        ['sw2', 'Cisco', '3850', 'Liverpool, Better str'],\n",
    "        ['sw3', 'Cisco', '3650', 'Liverpool, Better str'],\n",
    "        ['sw4', 'Cisco', '3650', 'London, Best str']]\n",
    "\n",
    "\n",
    "with open('./examples/sw_data.csv', 'w') as f:\n",
    "    writer = csv.writer(f)\n",
    "    for row in data:\n",
    "        writer.writerow(row)\n",
    "\n",
    "with open('./examples/sw_data.csv') as f:\n",
    "    print(f.read())"
   ]
  },
  {
   "cell_type": "markdown",
   "metadata": {},
   "source": [
    "В примере выше строки из списка сначала записываются в файл, а затем содержимое файла выводится на стандартный поток вывода.\n",
    "\n",
    "Обратите внимание на интересную особенность: строки в последнем столбце взяты в кавычки, а остальные значения - нет.\n",
    "\n",
    "Так получилось из-за того, что во всех строках последнего столбца есть запятая. И кавычки указывают на то, что именно является целой строкой. Когда запятая находится в кавычках, модуль `csv` не воспринимает её как разделитель.\n",
    "\n",
    "Иногда лучше, чтобы все строки были в кавычках. Конечно, в данном случае достаточно простой пример, но когда в строках больше значений, то кавычки позволяют указать, где начинается и заканчивается значение.\n",
    "\n",
    "Модуль `csv` позволяет управлять этим. Для того, чтобы все строки записывались в CSV-файл с кавычками, надо изменить скрипт таким образом: "
   ]
  },
  {
   "cell_type": "code",
   "execution_count": 3,
   "metadata": {},
   "outputs": [
    {
     "name": "stdout",
     "output_type": "stream",
     "text": [
      "\"hostname\",\"vendor\",\"model\",\"location\"\n",
      "\"sw1\",\"Cisco\",\"3750\",\"London, Best str\"\n",
      "\"sw2\",\"Cisco\",\"3850\",\"Liverpool, Better str\"\n",
      "\"sw3\",\"Cisco\",\"3650\",\"Liverpool, Better str\"\n",
      "\"sw4\",\"Cisco\",\"3650\",\"London, Best str\"\n",
      "\n"
     ]
    }
   ],
   "source": [
    "import csv\n",
    "\n",
    "\n",
    "data = [['hostname', 'vendor', 'model', 'location'],\n",
    "        ['sw1', 'Cisco', '3750', 'London, Best str'],\n",
    "        ['sw2', 'Cisco', '3850', 'Liverpool, Better str'],\n",
    "        ['sw3', 'Cisco', '3650', 'Liverpool, Better str'],\n",
    "        ['sw4', 'Cisco', '3650', 'London, Best str']]\n",
    "\n",
    "\n",
    "with open('./examples/sw_data.csv', 'w') as f:\n",
    "    writer = csv.writer(f, quoting=csv.QUOTE_NONNUMERIC)\n",
    "    for row in data:\n",
    "        writer.writerow(row)\n",
    "\n",
    "with open('./examples/sw_data.csv') as f:\n",
    "    print(f.read())"
   ]
  },
  {
   "cell_type": "markdown",
   "metadata": {},
   "source": [
    "Теперь все значения с кавычками. И поскольку номер модели задан как строка в изначальном списке, тут он тоже в кавычках.\n",
    "\n",
    "Кроме метода `writerow`, поддерживается метод `writerows`. Ему можно передать любой итерируемый объект.\n",
    "\n",
    "Например, предыдущий пример можно записать таким образом: "
   ]
  },
  {
   "cell_type": "code",
   "execution_count": 4,
   "metadata": {},
   "outputs": [
    {
     "name": "stdout",
     "output_type": "stream",
     "text": [
      "\"hostname\",\"vendor\",\"model\",\"location\"\n",
      "\"sw1\",\"Cisco\",\"3750\",\"London, Best str\"\n",
      "\"sw2\",\"Cisco\",\"3850\",\"Liverpool, Better str\"\n",
      "\"sw3\",\"Cisco\",\"3650\",\"Liverpool, Better str\"\n",
      "\"sw4\",\"Cisco\",\"3650\",\"London, Best str\"\n",
      "\n"
     ]
    }
   ],
   "source": [
    "import csv\n",
    "\n",
    "data = [['hostname', 'vendor', 'model', 'location'],\n",
    "        ['sw1', 'Cisco', '3750', 'London, Best str'],\n",
    "        ['sw2', 'Cisco', '3850', 'Liverpool, Better str'],\n",
    "        ['sw3', 'Cisco', '3650', 'Liverpool, Better str'],\n",
    "        ['sw4', 'Cisco', '3650', 'London, Best str']]\n",
    "\n",
    "\n",
    "with open('./examples/sw_data.csv', 'w') as f:\n",
    "    writer = csv.writer(f, quoting=csv.QUOTE_NONNUMERIC)\n",
    "    writer.writerows(data)\n",
    "\n",
    "with open('./examples/sw_data.csv') as f:\n",
    "    print(f.read())"
   ]
  },
  {
   "cell_type": "markdown",
   "metadata": {},
   "source": [
    "## `DictWriter`\n",
    "\n",
    "С помощью `DictWriter` можно записать словари в формат CSV.\n",
    "\n",
    "В целом `DictWriter` работает так же, как `writer`, но так как словари не упорядочены, надо указывать явно в каком порядке будут идти столбцы в файле. Для этого используется параметр `fieldnames`:"
   ]
  },
  {
   "cell_type": "code",
   "execution_count": 5,
   "metadata": {},
   "outputs": [],
   "source": [
    "import csv\n",
    "\n",
    "data = [{\n",
    "    'hostname': 'sw1',\n",
    "    'location': 'London',\n",
    "    'model': '3750',\n",
    "    'vendor': 'Cisco'\n",
    "}, {\n",
    "    'hostname': 'sw2',\n",
    "    'location': 'Liverpool',\n",
    "    'model': '3850',\n",
    "    'vendor': 'Cisco'\n",
    "}, {\n",
    "    'hostname': 'sw3',\n",
    "    'location': 'Liverpool',\n",
    "    'model': '3650',\n",
    "    'vendor': 'Cisco'\n",
    "}, {\n",
    "    'hostname': 'sw4',\n",
    "    'location': 'London',\n",
    "    'model': '3650',\n",
    "    'vendor': 'Cisco'\n",
    "}]\n",
    "\n",
    "with open('./examples/csv_write_dictwriter.csv', 'w') as f:\n",
    "    writer = csv.DictWriter(\n",
    "        f, fieldnames=list(data[0].keys()), quoting=csv.QUOTE_NONNUMERIC)\n",
    "    writer.writeheader()\n",
    "    for d in data:\n",
    "        writer.writerow(d)"
   ]
  },
  {
   "cell_type": "markdown",
   "metadata": {},
   "source": [
    "## Указание разделителя\n",
    "\n",
    "Иногда в качестве разделителя используются другие значения. В таком случае должна быть возможность подсказать модулю, какой именно разделитель использовать.\n",
    "\n",
    "Например, если в файле используется разделитель `;`: \n",
    "\n",
    "```csv\n",
    "hostname;vendor;model;location\n",
    "sw1;Cisco;3750;London\n",
    "sw2;Cisco;3850;Liverpool\n",
    "sw3;Cisco;3650;Liverpool\n",
    "sw4;Cisco;3650;London\n",
    "```\n",
    "\n",
    "Достаточно просто указать, какой разделитель используется в `reader`:"
   ]
  },
  {
   "cell_type": "code",
   "execution_count": 1,
   "metadata": {},
   "outputs": [
    {
     "name": "stdout",
     "output_type": "stream",
     "text": [
      "['hostname', 'vendor', 'model', 'location']\n",
      "['sw1', 'Cisco', '3750', 'London']\n",
      "['sw2', 'Cisco', '3850', 'Liverpool']\n",
      "['sw3', 'Cisco', '3650', 'Liverpool']\n",
      "['sw4', 'Cisco', '3650', 'London']\n"
     ]
    }
   ],
   "source": [
    "import csv\n",
    "\n",
    "with open('./examples/sw_data2.csv') as f:\n",
    "    reader = csv.reader(f, delimiter=';')\n",
    "    for row in reader:\n",
    "        print(row)"
   ]
  },
  {
   "cell_type": "markdown",
   "metadata": {},
   "source": [
    "# Работа с файлами в формате JSON\n",
    "\n",
    "**JSON (JavaScript Object Notation)** - повсеместно распространенный текстовый формат обмена данными, основанный на JavaScript. Как и многие другие текстовые форматы, JSON легко читается людьми\n",
    "\n",
    "JSON по синтаксису очень похож на Python и достаточно удобен для восприятия.\n",
    "\n",
    "Как и в случае с CSV, в Python есть модуль, который позволяет легко записывать и читать данные в формате JSON.\n",
    "\n",
    "Пример файла в формате JSON:\n",
    "\n",
    "```json\n",
    "{ \n",
    "\t\"id\": \"0001\",\n",
    "\t\"type\": \"donut\",\n",
    "\t\"name\": \"Cake\",\n",
    "\t\"ppu\": 0.55,\n",
    "\t\"batters\":\n",
    "\t\t{\n",
    "\t\t\t\"batter\":\n",
    "\t\t\t\t[\n",
    "\t\t\t\t\t{ \"id\": \"1001\", \"type\": \"Regular\" },\n",
    "\t\t\t\t\t{ \"id\": \"1002\", \"type\": \"Chocolate\" },\n",
    "\t\t\t\t\t{ \"id\": \"1003\", \"type\": \"Blueberry\" },\n",
    "\t\t\t\t\t{ \"id\": \"1004\", \"type\": \"Devil's Food\" }\n",
    "\t\t\t\t]\n",
    "\t\t},\n",
    "\t\"topping\":\n",
    "\t\t[\n",
    "\t\t\t{ \"id\": \"5001\", \"type\": \"None\" },\n",
    "\t\t\t{ \"id\": \"5002\", \"type\": \"Glazed\" },\n",
    "\t\t\t{ \"id\": \"5005\", \"type\": \"Sugar\" },\n",
    "\t\t\t{ \"id\": \"5007\", \"type\": \"Powdered Sugar\" },\n",
    "\t\t\t{ \"id\": \"5006\", \"type\": \"Chocolate with Sprinkles\" },\n",
    "\t\t\t{ \"id\": \"5003\", \"type\": \"Chocolate\" },\n",
    "\t\t\t{ \"id\": \"5004\", \"type\": \"Maple\" }\n",
    "\t\t]\n",
    "}\n",
    "```\n",
    "\n",
    "## Чтение\n",
    "\n",
    "Файл `sw_templates.json`:\n",
    "\n",
    "```\n",
    "{\n",
    "  \"access\": [\n",
    "    \"switchport mode access\",\n",
    "    \"switchport access vlan\",\n",
    "    \"switchport nonegotiate\",\n",
    "    \"spanning-tree portfast\",\n",
    "    \"spanning-tree bpduguard enable\"\n",
    "  ],\n",
    "  \"trunk\": [\n",
    "    \"switchport trunk encapsulation dot1q\",\n",
    "    \"switchport mode trunk\",\n",
    "    \"switchport trunk native vlan 999\",\n",
    "    \"switchport trunk allowed vlan\"\n",
    "  ]\n",
    "}\n",
    "```\n",
    "\n",
    "Для чтения в модуле json есть два метода:\n",
    "\n",
    "* `json.load` - метод считывает файл в формате JSON и возвращает объекты Python\n",
    "* `json.loads` - метод считывает строку в формате JSON и возвращает объекты Python\n",
    "\n",
    "### `json.load`\n",
    "\n",
    "Чтение файла в формате JSON в объект Python:"
   ]
  },
  {
   "cell_type": "code",
   "execution_count": null,
   "metadata": {},
   "outputs": [],
   "source": [
    "import json\n",
    "\n",
    "with open('./examples/sw_templates.json') as f:\n",
    "    templates = json.load(f)\n",
    "\n",
    "print(templates)\n",
    "\n",
    "for section, commands in templates.items():\n",
    "    print(section)\n",
    "    print('\\n'.join(commands))"
   ]
  },
  {
   "cell_type": "markdown",
   "metadata": {},
   "source": [
    "### `json.loads`\n",
    "\n",
    "Считывание строки в формате JSON в объект Python:"
   ]
  },
  {
   "cell_type": "code",
   "execution_count": null,
   "metadata": {},
   "outputs": [],
   "source": [
    "import json\n",
    "\n",
    "with open('./examples/sw_templates.json') as f:\n",
    "    file_content = f.read()\n",
    "    templates = json.loads(file_content)\n",
    "\n",
    "print(templates)\n",
    "\n",
    "for section, commands in templates.items():\n",
    "    print(section)\n",
    "    print('\\n'.join(commands))"
   ]
  },
  {
   "cell_type": "markdown",
   "metadata": {},
   "source": [
    "## Запись\n",
    "\n",
    "Запись файла в формате JSON также осуществляется достаточно легко.\n",
    "\n",
    "Для записи информации в формате JSON в модуле json также два метода:\n",
    "\n",
    "* `json.dump` - метод записывает объект Python в файл в формате JSON\n",
    "* `json.dumps` - метод возвращает строку в формате JSON\n",
    "\n",
    "### `json.dumps`\n",
    "\n",
    "Преобразование объекта в строку в формате JSON: "
   ]
  },
  {
   "cell_type": "code",
   "execution_count": null,
   "metadata": {},
   "outputs": [],
   "source": [
    "import json\n",
    "\n",
    "trunk_template = [\n",
    "    'switchport trunk encapsulation dot1q', 'switchport mode trunk',\n",
    "    'switchport trunk native vlan 999', 'switchport trunk allowed vlan'\n",
    "]\n",
    "\n",
    "access_template = [\n",
    "    'switchport mode access', 'switchport access vlan',\n",
    "    'switchport nonegotiate', 'spanning-tree portfast',\n",
    "    'spanning-tree bpduguard enable'\n",
    "]\n",
    "\n",
    "to_json = {'trunk': trunk_template, 'access': access_template}\n",
    "\n",
    "with open('./examples/sw_templates.json', 'w') as f:\n",
    "    f.write(json.dumps(to_json))\n",
    "\n",
    "with open('./examples/sw_templates.json') as f:\n",
    "    print(f.read())"
   ]
  },
  {
   "cell_type": "markdown",
   "metadata": {},
   "source": [
    "Метод `json.dumps` подходит для ситуаций, когда надо вернуть строку в формате JSON. Например, чтобы передать ее API.\n",
    "\n",
    "### `json.dump`\n",
    "\n",
    "Запись объекта Python в файл в формате JSON:"
   ]
  },
  {
   "cell_type": "code",
   "execution_count": null,
   "metadata": {},
   "outputs": [],
   "source": [
    "import json\n",
    "\n",
    "trunk_template = [\n",
    "    'switchport trunk encapsulation dot1q', 'switchport mode trunk',\n",
    "    'switchport trunk native vlan 999', 'switchport trunk allowed vlan'\n",
    "]\n",
    "\n",
    "access_template = [\n",
    "    'switchport mode access', 'switchport access vlan',\n",
    "    'switchport nonegotiate', 'spanning-tree portfast',\n",
    "    'spanning-tree bpduguard enable'\n",
    "]\n",
    "\n",
    "to_json = {'trunk': trunk_template, 'access': access_template}\n",
    "\n",
    "with open('./examples/sw_templates.json', 'w') as f:\n",
    "    json.dump(to_json, f)\n",
    "\n",
    "with open('./examples/sw_templates.json') as f:\n",
    "    print(f.read())"
   ]
  },
  {
   "cell_type": "markdown",
   "metadata": {},
   "source": [
    "Когда нужно записать информацию в формате JSON в файл, лучше использовать метод `dump`.\n",
    "\n",
    "### Дополнительные параметры методов записи\n",
    "\n",
    "Методам `dump` и `dumps` можно передавать дополнительные параметры для управления форматом вывода.\n",
    "\n",
    "По умолчанию эти методы записывают информацию в компактном представлении. Как правило, когда данные используются другими программами, визуальное представление данных не важно. Если же данные в файле нужно будет считать человеку, такой формат не очень удобно воспринимать.\n",
    "\n",
    "К счастью, модуль `json` позволяет управлять подобными вещами.\n",
    "\n",
    "Передав дополнительные параметры методу `dump` (или методу `dumps`), можно получить более удобный для чтения вывод:"
   ]
  },
  {
   "cell_type": "code",
   "execution_count": null,
   "metadata": {},
   "outputs": [],
   "source": [
    "import json\n",
    "\n",
    "trunk_template = [\n",
    "    'switchport trunk encapsulation dot1q', 'switchport mode trunk',\n",
    "    'switchport trunk native vlan 999', 'switchport trunk allowed vlan'\n",
    "]\n",
    "\n",
    "access_template = [\n",
    "    'switchport mode access', 'switchport access vlan',\n",
    "    'switchport nonegotiate', 'spanning-tree portfast',\n",
    "    'spanning-tree bpduguard enable'\n",
    "]\n",
    "\n",
    "to_json = {'trunk': trunk_template, 'access': access_template}\n",
    "\n",
    "with open('./examples/sw_templates.json', 'w') as f:\n",
    "    json.dump(to_json, f, sort_keys=True, indent=2)\n",
    "\n",
    "with open('./examples/sw_templates.json') as f:\n",
    "    print(f.read())"
   ]
  },
  {
   "cell_type": "markdown",
   "metadata": {},
   "source": [
    "### Изменение типа данных\n",
    "\n",
    "Еще один важный аспект преобразования данных в формат JSON: данные не всегда будут того же типа, что исходные данные в Python.\n",
    "\n",
    "Например, кортежи при записи в JSON превращаются в списки:"
   ]
  },
  {
   "cell_type": "code",
   "execution_count": null,
   "metadata": {},
   "outputs": [],
   "source": [
    "import json\n",
    "\n",
    "trunk_template = ('switchport trunk encapsulation dot1q',\n",
    "    'switchport mode trunk',\n",
    "    'switchport trunk native vlan 999',\n",
    "    'switchport trunk allowed vlan')\n",
    "\n",
    "print(type(trunk_template))\n",
    "\n",
    "with open('./examples/trunk_template.json', 'w') as f:\n",
    "    json.dump(trunk_template, f, sort_keys=True, indent=2)\n",
    "\n",
    "templates = json.load(open('./examples/trunk_template.json'))\n",
    "print(type(templates))"
   ]
  },
  {
   "cell_type": "markdown",
   "metadata": {},
   "source": [
    "Так происходит из-за того, что в JSON используются другие типы данных и не для всех типов данных Python есть соответствия.\n",
    "\n",
    "Таблица конвертации данных Python в JSON:\n",
    "\n",
    "| **Python**  |\t**JSON** |\n",
    "| ----------- | -------- |\n",
    "| dict\t      | object   |\n",
    "| list, tuple |\tarray    |\n",
    "| str         | string   |\n",
    "| int, float  | number   |\n",
    "| True        |\ttrue     |\n",
    "| False       |\tfalse    |\n",
    "| None        |\tnull     |\n",
    "\n",
    "Таблица конвертации JSON в данные Python:\n",
    "\n",
    "| **JSON**      | **Python** |\n",
    "| ------------- | ---------- |\n",
    "| object        | dict       |\n",
    "| array         | list       |\n",
    "| string        | str        |\n",
    "| number (int)  | int        | \n",
    "| number (real) | float      |\n",
    "| true          | True       |\n",
    "| false         | False      |\n",
    "| null          | None       |\n",
    "\n",
    "### Ограничение по типам данных\n",
    "\n",
    "В формат JSON нельзя записать словарь, у которого ключи - кортежи:"
   ]
  },
  {
   "cell_type": "code",
   "execution_count": null,
   "metadata": {},
   "outputs": [],
   "source": [
    "to_json = {('trunk', 'cisco'): trunk_template, 'access': access_template}\n",
    "\n",
    "with open('sw_templates.json', 'w') as f:\n",
    "    json.dump(to_json, f)"
   ]
  },
  {
   "cell_type": "markdown",
   "metadata": {},
   "source": [
    "С помощью дополнительного параметра можно игнорировать подобные ключи:"
   ]
  },
  {
   "cell_type": "code",
   "execution_count": null,
   "metadata": {},
   "outputs": [],
   "source": [
    "to_json = {('trunk', 'cisco'): trunk_template, 'access': access_template}\n",
    "\n",
    "with open('sw_templates.json', 'w') as f:\n",
    "    json.dump(to_json, f, skipkeys=True)"
   ]
  },
  {
   "cell_type": "markdown",
   "metadata": {},
   "source": [
    "Кроме того, в JSON ключами словаря могут быть только строки. Но, если в словаре Python использовались числа, ошибки не будет. Вместо этого выполнится конвертация чисел в строки:"
   ]
  },
  {
   "cell_type": "code",
   "execution_count": null,
   "metadata": {},
   "outputs": [],
   "source": [
    "d = {1: 100, 2: 200}\n",
    "json.dumps(d)"
   ]
  },
  {
   "cell_type": "markdown",
   "metadata": {},
   "source": [
    "# Работа с файлами в формате YAML\n",
    "\n",
    "**YAML (Yet Another Markup Language, позже YAML Ain't Markup Language)** - формат сериализации данных, концептуально близкий к языкам разметки, но ориентированный на удобство ввода-вывода типичных структур данных многих языков программирования.\n",
    "\n",
    "В трактовке названия отражена история развития: на ранних этапах YAML расшифровывался как Yet Another Markup Language («Ещё один язык разметки») и даже позиционировался как конкурент XML, но позже был переименован с целью акцентировать внимание на данных, а не на разметке документов.\n",
    "\n",
    "YAML более приятен для восприятия человеком, чем JSON, поэтому его часто используют для описания сценариев в ПО. Например, в Ansible."
   ]
  },
  {
   "cell_type": "markdown",
   "metadata": {},
   "source": [
    "## Синтаксис YAML\n",
    "\n",
    "Как и Python, YAML использует отступы для указания структуры документа. Но в YAML можно использовать только пробелы и нельзя использовать знаки табуляции.\n",
    "\n",
    "Еще одна схожесть с Python: комментарии начинаются с символа `#` и продолжаются до конца строки.\n",
    "\n",
    "### Список\n",
    "\n",
    "Список может быть записан в одну строку:\n",
    "\n",
    "```yaml\n",
    "[switchport mode access, switchport access vlan, switchport nonegotiate, spanning-tree portfast, spanning-tree bpduguard enable]\n",
    "```\n",
    "\n",
    "Или каждый элемент списка в своей строке:\n",
    "\n",
    "```yaml\n",
    "- switchport mode access\n",
    "- switchport access vlan\n",
    "- switchport nonegotiate\n",
    "- spanning-tree portfast\n",
    "- spanning-tree bpduguard enable\n",
    "```\n",
    "\n",
    "Когда список записан таким блоком, каждая строка должна начинаться с `- ` (минуса и пробела), и все строки в списке должны быть на одном уровне отступа.\n",
    "\n",
    "### Словарь\n",
    "\n",
    "Словарь также может быть записан в одну строку:\n",
    "\n",
    "```yaml\n",
    "{ vlan: 100, name: IT }\n",
    "```\n",
    "\n",
    "Или блоком:\n",
    "\n",
    "```yaml\n",
    "vlan: 100\n",
    "name: IT\n",
    "```\n",
    "\n",
    "### Строки\n",
    "\n",
    "Строки в YAML не обязательно брать в кавычки. Это удобно, но иногда всё же следует использовать кавычки. Например, когда в строке используется какой-то специальный символ (специальный для YAML).\n",
    "\n",
    "Такую строку, например, нужно взять в кавычки, чтобы она была корректно воспринята YAML:\n",
    "\n",
    "```yaml\n",
    "command: \"sh interface | include Queueing strategy:\"\n",
    "```\n",
    "\n",
    "### Комбинация элементов\n",
    "\n",
    "Словарь, в котором есть два ключа: access и trunk. Значения, которые соответствуют этим ключам - списки команд:\n",
    "\n",
    "```yaml\n",
    "access:\n",
    "- switchport mode access\n",
    "- switchport access vlan\n",
    "- switchport nonegotiate\n",
    "- spanning-tree portfast\n",
    "- spanning-tree bpduguard enable\n",
    "\n",
    "trunk:\n",
    "- switchport trunk encapsulation dot1q\n",
    "- switchport mode trunk\n",
    "- switchport trunk native vlan 999\n",
    "- switchport trunk allowed vlan\n",
    "```\n",
    "\n",
    "Список словарей:\n",
    "\n",
    "```yaml\n",
    "- BS: 1550\n",
    "  IT: 791\n",
    "  id: 11\n",
    "  name: Liverpool\n",
    "  to_id: 1\n",
    "  to_name: LONDON\n",
    "- BS: 1510\n",
    "  IT: 793\n",
    "  id: 12\n",
    "  name: Bristol\n",
    "  to_id: 1\n",
    "  to_name: LONDON\n",
    "- BS: 1650\n",
    "  IT: 892\n",
    "  id: 14\n",
    "  name: Coventry\n",
    "  to_id: 2\n",
    "  to_name: Manchester\n",
    "```\n",
    "\n",
    "## Модуль PyYAML\n",
    "\n",
    "Для работы с YAML в Python используется модуль PyYAML. Он не входит в стандартную библиотеку модулей, поэтому его нужно установить:\n",
    "\n",
    "```python\n",
    "pip install pyyaml\n",
    "```\n",
    "\n",
    "Работа с ним аналогична модулям `csv` и `json`.\n",
    "\n",
    "### Чтение из YAML\n",
    "\n",
    "Попробуем преобразовать данные из файла YAML в объекты Python.\n",
    "\n",
    "Файл `info.yaml`:\n",
    "\n",
    "```yaml\n",
    "- BS: 1550\n",
    "  IT: 791\n",
    "  id: 11\n",
    "  name: Liverpool\n",
    "  to_id: 1\n",
    "  to_name: LONDON\n",
    "- BS: 1510\n",
    "  IT: 793\n",
    "  id: 12\n",
    "  name: Bristol\n",
    "  to_id: 1\n",
    "  to_name: LONDON\n",
    "- BS: 1650\n",
    "  IT: 892\n",
    "  id: 14\n",
    "  name: Coventry\n",
    "  to_id: 2\n",
    "  to_name: Manchester\n",
    "```\n",
    "\n",
    "Чтение из YAML:"
   ]
  },
  {
   "cell_type": "code",
   "execution_count": null,
   "metadata": {},
   "outputs": [],
   "source": [
    "import yaml\n",
    "from pprint import pprint\n",
    "\n",
    "with open('./examples/info.yaml') as f:\n",
    "    templates = yaml.safe_load(f)\n",
    "\n",
    "pprint(templates)"
   ]
  },
  {
   "cell_type": "markdown",
   "metadata": {},
   "source": [
    "Формат YAML очень удобен для хранения различных параметров, особенно, если они заполняются вручную.\n",
    "\n",
    "### Запись в YAML\n",
    "\n",
    "Запись объектов Python в YAML:"
   ]
  },
  {
   "cell_type": "code",
   "execution_count": null,
   "metadata": {},
   "outputs": [],
   "source": [
    "import yaml\n",
    "\n",
    "trunk_template = [\n",
    "    'switchport trunk encapsulation dot1q', 'switchport mode trunk',\n",
    "    'switchport trunk native vlan 999', 'switchport trunk allowed vlan'\n",
    "]\n",
    "\n",
    "access_template = [\n",
    "    'switchport mode access', 'switchport access vlan',\n",
    "    'switchport nonegotiate', 'spanning-tree portfast',\n",
    "    'spanning-tree bpduguard enable'\n",
    "]\n",
    "\n",
    "to_yaml = {'trunk': trunk_template, 'access': access_template}\n",
    "\n",
    "with open('./examples/sw_templates.yaml', 'w') as f:\n",
    "    yaml.dump(to_yaml, f, default_flow_style=False)\n",
    "\n",
    "with open('./examples/sw_templates.yaml') as f:\n",
    "    print(f.read())"
   ]
  }
 ],
 "metadata": {
  "interpreter": {
   "hash": "aee8b7b246df8f9039afb4144a1f6fd8d2ca17a180786b69acc140d282b71a49"
  },
  "kernelspec": {
   "display_name": "Python 3 (ipykernel)",
   "language": "python",
   "name": "python3"
  },
  "language_info": {
   "codemirror_mode": {
    "name": "ipython",
    "version": 3
   },
   "file_extension": ".py",
   "mimetype": "text/x-python",
   "name": "python",
   "nbconvert_exporter": "python",
   "pygments_lexer": "ipython3",
   "version": "3.10.2"
  }
 },
 "nbformat": 4,
 "nbformat_minor": 4
}
