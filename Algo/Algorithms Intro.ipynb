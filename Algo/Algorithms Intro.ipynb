{
 "cells": [
  {
   "attachments": {},
   "cell_type": "markdown",
   "metadata": {},
   "source": [
    "# Лекция 1: Введение в алгоритмы\n",
    "\n",
    "## 1.1: Пример алгоритмической проблемы\n",
    "\n",
    "Алгоритмическая задача задается путем описания полного набора входных данных, с которыми должна работать ее реализация, и соответствующим набором выходным данных. Примером алгоритмической задачи является задача сортировки, и определяется она следующим образом:\n",
    "\n",
    "* Задача: Сортировка\n",
    "* Входные данные: Последовательность элементов длины n: `{a_1, a_2, ..., a_n}`\n",
    "* Результат: Выходная последовательность из того же набора элементов, но с измененным порядком следования: `{a'_1 <= a'_2 <= ... <= a'_{n-1} <= a'_n}`\n",
    "\n",
    "\n",
    "Элементами последовательности могут быть как строки, например `{ Haskell, Emacs }`, так и числа, например `{ 154, 245, 1337 }`.\n",
    "\n",
    "Пример:\n",
    "\n",
    "**ВСТАВИТЬ ПРИМЕР ИЗ КОНТЕСТА ЯНДЕКСА**\n",
    "\n",
    "## 1.2: Простой алгоритм Fizz Buzz\n",
    "\n",
    "**Fizz Buzz**\n",
    "\n",
    "Суть задачки FizzBuzz в следующем:\n",
    "\n",
    "Напишите программу, которая выводит на экран числа от 1 до N. При этом вместо чисел, кратных трем, программа должна выводить слово «Fizz», а вместо чисел, кратных пяти — слово «Buzz». Если число кратно и 3, и 5, то программа должна выводить слово «FizzBuzz»\n",
    "\n",
    "Начнем с создания массива чисел:\n",
    "\n",
    "```py\n",
    "# Начнем с последовательности от 1 до 5\n",
    "numbers = [1, 2, 3, 4, 5]\n",
    "# Здесь 3 - fizz, 5 - buzz\n",
    "```\n",
    "\n",
    "Чтобы найти все fizz и buzz, мы должны поэлементно пройтись по всей последовательности и проверить, под какую категорию подпадает число в текущей итерации (fizz, buzz, fizzbuzz или ни под одну из них). Для этого создадим цикл, проходящийся по всем значениям массива, который мы создали на предыдущем этапе:\n",
    "\n",
    "```py\n",
    "for num in numbers:\n",
    "    # Здесь будет тело цикла и необходимые манипуляции\n",
    "```\n",
    "\n",
    "Для того чтобы найти fizz'ы и buzz'ы нам достаточно будет применить конструкцию условного перехода `if else` и оператор получения остатка от деления `%`:"
   ]
  },
  {
   "cell_type": "code",
   "execution_count": 14,
   "metadata": {},
   "outputs": [
    {
     "name": "stdout",
     "output_type": "stream",
     "text": [
      "1\n",
      "2\n",
      "fizz\n",
      "4\n",
      "buzz\n"
     ]
    }
   ],
   "source": [
    "numbers = [1, 2, 3, 4 , 5]\n",
    "\n",
    "for num in numbers:\n",
    "    if num % 3 == 0:\n",
    "        print('fizz')\n",
    "    elif num % 5 == 0:\n",
    "        print('buzz')\n",
    "    else:\n",
    "        print(num)"
   ]
  },
  {
   "attachments": {},
   "cell_type": "markdown",
   "metadata": {},
   "source": [
    "Замечательно! \n",
    "\n",
    "Теперь увеличим размер последовательности до 15 чисел:\n",
    "\n",
    "```py\n",
    "numbers = [1, 2, 3, 4, 5, 6, 7, 8, 9, 10, 11, 12, 13, 14, 15]\n",
    "```\n",
    "\n",
    "Мы увеличили диапазон чисел с 1-5 до 1-15 для того чтобы продемонстрировать ситуацию, когда число кратно и 3, и 5. Самое простейшее решение выглядит следующим образом:"
   ]
  },
  {
   "cell_type": "code",
   "execution_count": 15,
   "metadata": {},
   "outputs": [
    {
     "name": "stdout",
     "output_type": "stream",
     "text": [
      "1\n",
      "2\n",
      "fizz\n",
      "4\n",
      "buzz\n",
      "fizz\n",
      "7\n",
      "8\n",
      "fizz\n",
      "buzz\n",
      "11\n",
      "fizz\n",
      "13\n",
      "14\n",
      "fizz buzz\n"
     ]
    }
   ],
   "source": [
    "numbers = [1, 2, 3, 4, 5, 6, 7, 8, 9, 10, 11, 12, 13, 14, 15]\n",
    "\n",
    "for num in numbers:\n",
    "    if num % 3 == 0 and num % 5 == 0:\n",
    "        print('fizz buzz')\n",
    "    elif num % 3 == 0:\n",
    "        print('fizz')\n",
    "    elif num % 5 == 0:\n",
    "        print('buzz')\n",
    "    else:\n",
    "        print(num)"
   ]
  },
  {
   "attachments": {},
   "cell_type": "markdown",
   "metadata": {},
   "source": [
    "Но подождите, это не все. Вернемся к примеру. В алгоритмических задачах в условии, помимо наборов входных данных и соответствующим им наборам выходных, добавляется ограничение на время исполнения программы () и ограничение на объем потребляемой программой памяти. Увеличим размер массива до одного миллиона и замерим время исполнения программы (для того, чтобы наше рабочее место не засорялось выводом миллиона строк, вместо вывода на экран будем добавлять нужные нам значения в результирующий список `result`):"
   ]
  },
  {
   "cell_type": "code",
   "execution_count": 16,
   "metadata": {},
   "outputs": [
    {
     "name": "stdout",
     "output_type": "stream",
     "text": [
      "Duration: 0.11906700000000026\n"
     ]
    }
   ],
   "source": [
    "import time\n",
    "\n",
    "numbers = list(range(1, 10**6 + 1))\n",
    "\n",
    "result = []  \n",
    "\n",
    "start_time = time.process_time()\n",
    "\n",
    "for num in numbers:\n",
    "    if num % 3 == 0 and num % 5 == 0:\n",
    "        result.append('fizz buzz')\n",
    "    elif num % 3 == 0:\n",
    "        result.append('fizz')\n",
    "    elif num % 5 == 0:\n",
    "        result.append('buzz')\n",
    "    else:\n",
    "        result.append(num)\n",
    "\n",
    "end_time = time.process_time()\n",
    "print(f\"Duration: {end_time - start_time}\")"
   ]
  },
  {
   "attachments": {},
   "cell_type": "markdown",
   "metadata": {},
   "source": [
    "Нам известно, что если число делится и на 3, и на 5 - значит оно делится на 15. Это знание позволит нам слегка ускорить нашу программу. \n",
    "\n",
    "Заменим условие вывода варианта `'fizz buzz'` с \n",
    "```py\n",
    "if num % 3 == 0 and num % 5 == 0\n",
    "``` \n",
    "на\n",
    "```py\n",
    "if num % 15 == 0\n",
    "```\n",
    "Это позволит процессору выполнять одну операцию вычисления остатка от деления и одну операцию сравнения вместо двух (к тому же в предыдущем случае к этому добавляется операция логического И). Важно понимать, что, хоть в данном примере эти манипуляции и не принесут значительного выигрыша (потому что в целом используемые операторы быстро выполняются процессором), приведенный пример позволит понять общие принципы решения логических задач. К тому же при экстраполяции (увеличении размера входных данных) разница во времени выполнении двух реализаций будет увеличиваться.\n",
    "\n",
    "Перепишем наш алгоритм и замерим время исполнения программы:"
   ]
  },
  {
   "cell_type": "code",
   "execution_count": 17,
   "metadata": {},
   "outputs": [
    {
     "name": "stdout",
     "output_type": "stream",
     "text": [
      "Duration: 0.10830799999999918\n"
     ]
    }
   ],
   "source": [
    "import time\n",
    "\n",
    "numbers = list(range(1, 10**6 + 1))\n",
    "\n",
    "result = []  \n",
    "\n",
    "start_time = time.process_time()\n",
    "\n",
    "for num in numbers:\n",
    "    if num % 15 == 0:\n",
    "        result.append('fizz buzz')\n",
    "    elif num % 3 == 0:\n",
    "        result.append('fizz')\n",
    "    elif num % 5 == 0:\n",
    "        result.append('buzz')\n",
    "    else:\n",
    "        result.append(num)\n",
    "\n",
    "end_time = time.process_time()\n",
    "print(f\"Duration: {end_time - start_time}\")"
   ]
  },
  {
   "attachments": {},
   "cell_type": "markdown",
   "metadata": {},
   "source": [
    "А теперь выполним несколько итераций для получения двух серий экспериментальных данных:"
   ]
  },
  {
   "cell_type": "code",
   "execution_count": 18,
   "metadata": {},
   "outputs": [
    {
     "name": "stdout",
     "output_type": "stream",
     "text": [
      "\n",
      "Slower time:\n",
      "[0.1187448501586914, 0.11569881439208984, 0.11696910858154297, 0.11600828170776367, 0.11694216728210449, 0.11664199829101562]\n",
      "\n",
      "Faster time:\n",
      "[0.10657596588134766, 0.10606169700622559, 0.10730433464050293, 0.10757303237915039, 0.10896015167236328, 0.10778999328613281]\n",
      "\n"
     ]
    }
   ],
   "source": [
    "import time\n",
    "\n",
    "numbers = list(range(1, 10**6 + 1))\n",
    "\n",
    "result = []\n",
    "time_stamps_slower = []\n",
    "time_stamps_faster = []\n",
    "repeats = 5\n",
    "\n",
    "\n",
    "for count in range(repeats + 1):\n",
    "\n",
    "    start_time_slower = time.time()\n",
    "\n",
    "    for num in numbers:\n",
    "        if num % 3 == 0 and num % 5 == 0:\n",
    "            result.append('fizz buzz')\n",
    "        elif num % 3 == 0:\n",
    "            result.append('fizz')\n",
    "        elif num % 5 == 0:\n",
    "            result.append('buzz')\n",
    "        else:\n",
    "            result.append(num)\n",
    "    \n",
    "    end_time_slower = time.time()\n",
    "    time_stamps_slower.append(end_time_slower - start_time_slower)\n",
    "\n",
    "\n",
    "for count in range(repeats + 1):\n",
    "    \n",
    "    start_time_faster = time.time()\n",
    "\n",
    "    for num in numbers:\n",
    "        if num % 15 == 0:\n",
    "            result.append('fizz buzz')\n",
    "        elif num % 3 == 0:\n",
    "            result.append('fizz')\n",
    "        elif num % 5 == 0:\n",
    "            result.append('buzz')\n",
    "        else:\n",
    "            result.append(num)\n",
    "\n",
    "    end_time_faster = time.time()\n",
    "    time_stamps_faster.append(end_time_faster - start_time_faster)\n",
    "\n",
    "print(f\"\"\"\n",
    "Slower time:\n",
    "{time_stamps_slower}\n",
    "\n",
    "Faster time:\n",
    "{time_stamps_faster}\n",
    "\"\"\")"
   ]
  },
  {
   "attachments": {},
   "cell_type": "markdown",
   "metadata": {},
   "source": [
    "## 1.3: Измерение времени исполнения программы\n",
    "\n",
    "В предыдущих примерах мы замеряли время исполнения программы (runtime) при помощи метода стандартной библиотеки `time`. Рассмотрим пару основных способов измерения времени исполнения программы. \n",
    "\n",
    "В процессе проведения измерений показателей производительности программы, а в частности - при измерении времени исполнения программы, мы сталкиваемся с двумя показателями этого измерения: Wall clock time и CPU time.\n",
    "\n",
    "Поэтому с самого начала определить и понять различие этих двух показателей.\n",
    "\n",
    "Wall time (aka clock time, wall-clock time) - это просто общее количество времени, прошедшее за время проведения замера. Это время, которое вы можете замерить даже при помощи секундомера. Это разница между временем, в которое программа завершила свое выполнение, и временем, в которое программа запустилась. Wall time также включает в себя время ожидания ресурсов.\n",
    "\n",
    "CPU time, с другой стороны, относится к времени, в течение которого процессор был занят обработкой инструкций программы. Время, затраченное на ожидание завершения другой задачи (например, операций ввода-вывода), не включается в процессорное время. CPU time не включает время ожидания ресурсов.\n",
    "\n",
    "Разница между Wall time и CPU time может быть обусловлена архитектурой или runtime'ом, например, заданными разработчиком задержками или ожиданием доступа системных ресурсов.\n",
    "\n",
    "Например, программа сообщает, что она использовала “СPU time 0m0.2s, Wall time 2m4s”. Это означает, что программа была активна в течение 2 минут и четырех секунд. Тем не менее, процессор компьютера потратил всего 0,2 секунды на выполнение вычислений. Возможно, программа ожидала, когда станут доступны некоторые ресурсы (например память).\n",
    "\n",
    "### Time module\n",
    "\n",
    "[Библиотека time](https://docs.python.org/3/library/time.html) предоставляет разработчикам различные функции для работы со временем, такие как получение текущего времени и приостановка выполнения вызывающего потока на заданное количество секунд. Приведенные ниже шаги показывают, как использовать модуль time для расчета времени выполнения программы. \n",
    "\n",
    "1. **Модуль времени импорта**\n",
    "Модуль `time` поставляется со стандартной библиотекой Python. Сначала импортируйте его с помощью инструкции `import`.\n",
    "\n",
    "2. **Сохраняем время начала программы**\n",
    "Теперь нам нужно получить время запуска перед выполнением первой строки программы. Чтобы сделать это, мы будем использовать функцию `time()`, чтобы получить текущее время и сохранить его в переменной `start_time` перед первой строкой программы.\n",
    "Функция `time()` - Wall time\n",
    "Функция `process_time()` - CPU time\n",
    "\n",
    "3. **Сохраните время окончания**\n",
    "Далее нам нужно получить время окончания перед выполнением последней строки.\n",
    "Опять же, мы будем использовать функцию `time()` (`process_time()`), чтобы получить текущее время и сохранить его в переменной `end_time` перед последней строкой программы.\n",
    "\n",
    "4. **Рассчитайте время выполнения**\n",
    "Разница между временем окончания и временем начала - это время выполнения. Получите время выполнения - `runtime = end_time - start_time`."
   ]
  },
  {
   "cell_type": "code",
   "execution_count": 19,
   "metadata": {},
   "outputs": [
    {
     "name": "stdout",
     "output_type": "stream",
     "text": [
      "Duration: 3.1504640579223633\n"
     ]
    }
   ],
   "source": [
    "import time\n",
    "\n",
    "numbers = list(range(1, 10**6 + 1))\n",
    "\n",
    "result = []  \n",
    "\n",
    "start_time = time.time()\n",
    "\n",
    "time.sleep(3)\n",
    "\n",
    "for num in numbers:\n",
    "    if num % 15 == 0:\n",
    "        result.append('fizz buzz')\n",
    "    elif num % 3 == 0:\n",
    "        result.append('fizz')\n",
    "    elif num % 5 == 0:\n",
    "        result.append('buzz')\n",
    "    else:\n",
    "        result.append(num)\n",
    "\n",
    "end_time = time.time()\n",
    "print(f\"Duration: {end_time - start_time}\")"
   ]
  },
  {
   "cell_type": "code",
   "execution_count": 20,
   "metadata": {},
   "outputs": [
    {
     "name": "stdout",
     "output_type": "stream",
     "text": [
      "Duration: 0.14827800000000035\n"
     ]
    }
   ],
   "source": [
    "import time\n",
    "\n",
    "numbers = list(range(1, 10**6 + 1))\n",
    "\n",
    "result = []  \n",
    "\n",
    "start_time = time.process_time()\n",
    "\n",
    "time.sleep(3)\n",
    "\n",
    "for num in numbers:\n",
    "    if num % 15 == 0:\n",
    "        result.append('fizz buzz')\n",
    "    elif num % 3 == 0:\n",
    "        result.append('fizz')\n",
    "    elif num % 5 == 0:\n",
    "        result.append('buzz')\n",
    "    else:\n",
    "        result.append(num)\n",
    "\n",
    "end_time = time.process_time()\n",
    "print(f\"Duration: {end_time - start_time}\")"
   ]
  },
  {
   "attachments": {},
   "cell_type": "markdown",
   "metadata": {},
   "source": [
    "## 1.3: Измерение затраченной памяти во время исполнения программы\n",
    "\n",
    "Memory Profiler - это модуль Python с открытым исходным кодом, который внутренне использует модуль psutil для мониторинга потребления памяти функциями Python. Он выполняет построчный анализ потребления памяти функцией.\n",
    "\n",
    "Установка:\n",
    "\n",
    "```sh\n",
    "pip install -U memory_profiler\n",
    "```\n",
    "\n",
    "```py\n",
    "# importing the library\n",
    "from memory_profiler import profile\n",
    " \n",
    "# instantiating the decorator\n",
    "@profile\n",
    "# code for which memory has to\n",
    "# be monitored\n",
    "def my_func():\n",
    "    x = [x for x in range(0, 1000)]\n",
    "    y = [y*100 for y in range(0, 1500)]\n",
    "    del x\n",
    "    return y\n",
    " \n",
    "if __name__ == '__main__':\n",
    "    my_func()\n",
    "```\n",
    "\n",
    "![result](./pics/01_memory_profiler.png)"
   ]
  }
 ],
 "metadata": {
  "kernelspec": {
   "display_name": "Python 3",
   "language": "python",
   "name": "python3"
  },
  "language_info": {
   "codemirror_mode": {
    "name": "ipython",
    "version": 3
   },
   "file_extension": ".py",
   "mimetype": "text/x-python",
   "name": "python",
   "nbconvert_exporter": "python",
   "pygments_lexer": "ipython3",
   "version": "3.10.2"
  },
  "orig_nbformat": 4,
  "vscode": {
   "interpreter": {
    "hash": "aee8b7b246df8f9039afb4144a1f6fd8d2ca17a180786b69acc140d282b71a49"
   }
  }
 },
 "nbformat": 4,
 "nbformat_minor": 2
}
