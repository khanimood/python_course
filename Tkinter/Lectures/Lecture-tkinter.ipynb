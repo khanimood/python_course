{
 "cells": [
  {
   "attachments": {},
   "cell_type": "markdown",
   "metadata": {},
   "source": [
    "# 1. Создание окна приложения с Tkinter\n",
    "\n",
    "Для создания простого окна приложения в Tkinter выполните следующие действия:\n",
    "\n",
    "- Импортируйте модуль `import tkinter`.\n",
    "- Создайте новый объект `Tk`, который представляет собой главное окно приложения.\n",
    "- (Опционально) Задайте заголовок окна с помощью метода `title()` объекта `Tk`.\n",
    "- (Опционально) Установите размер окна с помощью метода `geometry()` объекта Tk. Метод `geometry()` принимает строковый параметр в формате **\"Ширина x Высота\"**.\n",
    "- Вызовите метод `mainloop()` объекта `Tk`, чтобы запустить основной цикл GUI приложения.\n",
    "\n",
    "Вот пример кода, который создает простое окно размером 250 на 250 пикселей с заголовком:"
   ]
  },
  {
   "cell_type": "code",
   "execution_count": null,
   "metadata": {},
   "outputs": [],
   "source": [
    "import tkinter\n",
    "\n",
    "# Создайте новый объект Tk\n",
    "root = tkinter.Tk()\n",
    "\n",
    "# Задайте заголовок окна\n",
    "root.title(\"Some title here\")\n",
    "\n",
    "# Установите размер окна\n",
    "root.geometry(\"250x250\")\n",
    "\n",
    "# Запустите основной цикл\n",
    "root.mainloop()"
   ]
  },
  {
   "attachments": {},
   "cell_type": "markdown",
   "metadata": {},
   "source": [
    "# 2. Позиционирование окна в центре экрана\n",
    "\n",
    "Чтобы разместить окно Tkinter приложения в центре экрана, необходимо:\n",
    "\n",
    "- Воспользоваться методами `winfo_screenwidth()` и `winfo_screenheight()` для получения ширины и высоты экрана соответственно.\n",
    "- Передать в метод `geometry()` координаты `x` и `y`, равные половине ширины и высоты экрана за минусом половины ширины и высоты окна приложения.\n",
    "  Код будет выглядеть так:"
   ]
  },
  {
   "cell_type": "code",
   "execution_count": null,
   "metadata": {},
   "outputs": [],
   "source": [
    "import tkinter\n",
    "\n",
    "# Создайте новый объект Tk\n",
    "root = tkinter.Tk()\n",
    "\n",
    "# Получаем ширину и высоту экрана\n",
    "screen_width = root.winfo_screenwidth()\n",
    "screen_height = root.winfo_screenheight()\n",
    "\n",
    "# Вычисляем координаты окна приложения\n",
    "window_width = 500\n",
    "window_height = 300\n",
    "x = (screen_width // 2) - (window_width // 2)\n",
    "y = (screen_height // 2) - (window_height // 2)\n",
    "root.geometry(f\"{window_width}x{window_height}+{x}+{y}\")\n",
    "\n",
    "# Запускаем программу\n",
    "root.mainloop()"
   ]
  },
  {
   "attachments": {},
   "cell_type": "markdown",
   "metadata": {},
   "source": [
    "# 3. Виджет `Button`\n",
    "Виджеты `Button` нужны для создания кликабельных кнопок. Их можно настроить таким образом, чтобы при нажатии вызывалась определенная функция. "
   ]
  },
  {
   "cell_type": "code",
   "execution_count": null,
   "metadata": {},
   "outputs": [],
   "source": [
    "import tkinter\n",
    " \n",
    "root = tkinter.Tk()\n",
    " \n",
    "button = tkinter.Button(\n",
    "    text=\"Press me!\",\n",
    "    width=25,\n",
    "    height=5,\n",
    "    bg=\"white\",\n",
    "    fg=\"black\"\n",
    ")\n",
    " \n",
    "button.pack()\n",
    "root.mainloop()"
   ]
  },
  {
   "attachments": {},
   "cell_type": "markdown",
   "metadata": {},
   "source": [
    "# 4. Виджет `Entry`\n",
    "В случаях, когда требуется получить текстовую информацию от пользователя вроде адреса электронной почты, используется виджет `Entry`. Он отображает небольшой текстовый бокс, куда пользователь может ввести текст.\n",
    "\n",
    "Создание виджета `Entry` практически ничем не отличается от процесса создания ярлыка и кнопки. В случае виджета однострочного текстового поля (`Entry`) интересен не процесс создания стиля, а то, как получить эти входные данные от пользователя. Есть три основные операции, что можно провести с виджетом однострочного текстового поля (`Entry`):\n",
    "\n",
    "- Получение всего текста через `.get()`\n",
    "- Удаление текста через `.delete()`\n",
    "- Вставка нового текста через `.insert()`\n",
    "\n",
    "> Программа в примере получает от пользователя текст с помощью виджетов Entry и Button, а затем выводит полученную строку в терминале"
   ]
  },
  {
   "cell_type": "code",
   "execution_count": null,
   "metadata": {},
   "outputs": [],
   "source": [
    "import tkinter as tk\n",
    "\n",
    "root = tk.Tk()\n",
    "\n",
    "def button_click():\n",
    "    input_text = entry.get()\n",
    "    print(f\"Полученный текст: {input_text}\")\n",
    "\n",
    "entry = tk.Entry(root)\n",
    "button = tk.Button(root, text=\"Отправить\", command=button_click)\n",
    "\n",
    "entry.pack()\n",
    "button.pack()\n",
    "\n",
    "root.mainloop()"
   ]
  },
  {
   "attachments": {},
   "cell_type": "markdown",
   "metadata": {},
   "source": [
    "# 5. Виджет `Label`\n",
    "Виджет `Label` используется для отображения текста или картинок. Текст на виджете `Label`, не может редактироваться пользователем. Он только показывается. Виджеты `Label` отображают текст с установленным по умолчанию системным цветом и фоном. Обычно это черный и белый цвета. Следовательно, если в вашей операционной системе указаны иные цвета, именно их вы и увидите.\n",
    "\n",
    "- Изменить цвет текста и фона виджета `Label` можно через параметры `foreground` и `background`. Если вам не хочется регулярно вводить `foreground` и `background`, можете использовать сокращенные версии параметров — `fg` и `bg`. Они точно также отвечают за установку цвета текста и цвета фона.\n",
    "- Вы также можете управлять шириной и высотой ярлыка с помощью параметров `width` и `heigh`.\n",
    "\n",
    "![colours example](../pics/tkinter-colors-list.png)\n",
    "\n",
    "\n",
    "> Ширина и высота измеряются в текстовых юнитах. Горизонтальный текстовый юнит определен шириной символа \"0\", или цифрой ноль, в шрифте системы по умолчанию. Аналогичным образом один вертикальный текстовый юнит определен высотой символа \"0\"."
   ]
  },
  {
   "cell_type": "code",
   "execution_count": null,
   "metadata": {},
   "outputs": [],
   "source": [
    "import tkinter\n",
    " \n",
    "root = tkinter.Tk()\n",
    " \n",
    "label = tkinter.Label(\n",
    "    text=\"Hello, Tkinter!\",\n",
    "    fg=\"white\",\n",
    "    bg=\"black\",\n",
    "    width=20,\n",
    "    height=20\n",
    ")\n",
    " \n",
    "label.pack()\n",
    "root.mainloop()"
   ]
  },
  {
   "attachments": {},
   "cell_type": "markdown",
   "metadata": {},
   "source": [
    "Еще один способ работы с `Label`:\n",
    "\n",
    "> Программа в примере изменяет текст виджета Label после нажатия на кнопку"
   ]
  },
  {
   "cell_type": "code",
   "execution_count": null,
   "metadata": {},
   "outputs": [],
   "source": [
    "import tkinter as tk\n",
    "root = tk.Tk()\n",
    "label = tk.Label(root, text=\"Измени этот текст\")\n",
    "label.pack()\n",
    "def change_text():\n",
    "    label.config(text=\"Это новый текст\")\n",
    "button = tk.Button(root, text=\"Нажми кнопку!\", command=change_text)\n",
    "button.pack()\n",
    "root.mainloop()"
   ]
  },
  {
   "attachments": {},
   "cell_type": "markdown",
   "metadata": {},
   "source": [
    "# 6. Виджет `Text`\n",
    "\n",
    "> Программа в примере получает от пользователя многострочный текст в виджете Text и выводит в виджетах Label количество слов и символов"
   ]
  },
  {
   "cell_type": "code",
   "execution_count": null,
   "metadata": {},
   "outputs": [],
   "source": [
    "import tkinter as tk\n",
    "import tkinter.ttk as ttk\n",
    "\n",
    "root = tk.Tk()\n",
    "root.geometry(\"250x150\")\n",
    "root.title(\"Подсчет слов и символов\")\n",
    "\n",
    "def count_words_characters():\n",
    "    sentence = sentence_entry.get(\"1.0\", \"end-1c\")  \n",
    "    words = len(sentence.split())\n",
    "    characters = len(sentence)\n",
    "    words_label.config(text=f\"Количество слов: {words}\")\n",
    "    characters_label.config(text=f\"Количество символов: {characters}\")\n",
    "\n",
    "sentence_entry = tk.Text(root, height=3, wrap=\"word\")  \n",
    "words_label = ttk.Label(root)\n",
    "characters_label = ttk.Label(root)\n",
    "count_button = ttk.Button(root, text=\"Подсчитать\", command=count_words_characters)\n",
    "\n",
    "sentence_entry.pack()\n",
    "words_label.pack()\n",
    "characters_label.pack()\n",
    "count_button.pack()\n",
    "\n",
    "root.mainloop()"
   ]
  },
  {
   "attachments": {},
   "cell_type": "markdown",
   "metadata": {},
   "source": [
    "# 7. Виджет `Scale`\n",
    "\n",
    "> Программа в примере оценивает сервис по шкале от 0 до 100"
   ]
  },
  {
   "cell_type": "code",
   "execution_count": null,
   "metadata": {},
   "outputs": [],
   "source": [
    "import tkinter as tk\n",
    "root = tk.Tk()\n",
    "label = tk.Label(root, text=f\"Ваша оценка от 0 до 100\")\n",
    "label.pack()\n",
    "def update_label(value):\n",
    "    label.config(text=f\"Ваша оценка: {value}\")\n",
    "scale = tk.Scale(root, from_=0, to=100, orient=\"horizontal\", command=update_label)\n",
    "scale.pack()\n",
    "root.mainloop()"
   ]
  },
  {
   "attachments": {},
   "cell_type": "markdown",
   "metadata": {},
   "source": [
    "# 8. Виджет `Progressbar`\n",
    "\n",
    "> Программа в примере реализует индикатор выполнения задачи с помощью виджета Progressbar"
   ]
  },
  {
   "cell_type": "code",
   "execution_count": null,
   "metadata": {},
   "outputs": [],
   "source": [
    "import tkinter as tk\n",
    "from tkinter import ttk\n",
    "\n",
    "root = tk.Tk()\n",
    "\n",
    "progressbar = ttk.Progressbar(root, orient=\"horizontal\", length=200, mode=\"determinate\")\n",
    "\n",
    "progressbar.start()\n",
    "\n",
    "def stop_progressbar():\n",
    "    if root.winfo_exists() and progressbar.winfo_exists():\n",
    "        progressbar.stop()\n",
    "        progressbar[\"value\"] = 0   \n",
    "        root.quit()\n",
    "        root.destroy()\n",
    "\n",
    "if root.winfo_exists() and progressbar.winfo_exists():\n",
    "    root.after(5000, stop_progressbar)\n",
    "\n",
    "progressbar.pack()\n",
    "\n",
    "def exit_app():\n",
    "    stop_progressbar()\n",
    "\n",
    "root.protocol(\"WM_DELETE_WINDOW\", exit_app)\n",
    "\n",
    "root.mainloop()"
   ]
  },
  {
   "attachments": {},
   "cell_type": "markdown",
   "metadata": {},
   "source": [
    "# 9. Виджет `Combobox`\n",
    "\n",
    "> Программа в примере помогает заказать фрукты"
   ]
  },
  {
   "cell_type": "code",
   "execution_count": null,
   "metadata": {},
   "outputs": [],
   "source": [
    "import tkinter as tk\n",
    "import tkinter.ttk as ttk\n",
    "\n",
    "root = tk.Tk()\n",
    "root.title(\"Заказ\")\n",
    "\n",
    "def select_item():\n",
    "    selected_item = combobox.get()\n",
    "    selection_label.config(text=f\"Выбрано: {selected_item}, 1 кг\")\n",
    "\n",
    "items = [\"Яблоки\", \"Апельсины\", \"Виноград\", \"Персики\", \"Клубника\"]\n",
    "combobox = ttk.Combobox(root, values=items)\n",
    "selection_label = ttk.Label(root)\n",
    "select_button = ttk.Button(root, text=\"Заказать\", command=select_item)\n",
    "\n",
    "combobox.pack()\n",
    "selection_label.pack()\n",
    "select_button.pack()\n",
    "\n",
    "root.mainloop()"
   ]
  },
  {
   "attachments": {},
   "cell_type": "markdown",
   "metadata": {},
   "source": [
    "# 10. Виджет `Spinbox`\n",
    "\n",
    "> Программа в примере использует виджеты Spinbox для получения двух чисел **a** и **b** (0 <= **a** <= 100, 0 <= **b** <= 100), а затем выводит сумму всех целых чисел в диапазоне от a до b **включительно**"
   ]
  },
  {
   "cell_type": "code",
   "execution_count": null,
   "metadata": {},
   "outputs": [],
   "source": [
    "import tkinter as tk\n",
    "import tkinter.ttk as ttk\n",
    "\n",
    "class SumApp:\n",
    "    def __init__(self, root):\n",
    "        self.root = root\n",
    "        root.geometry(\"250x200\")\n",
    "        self.root.title(\"Сумма чисел\")\n",
    "        \n",
    "        self.start_spinbox = ttk.Spinbox(root, from_=0, to=100, increment=1)\n",
    "        self.end_spinbox = ttk.Spinbox(root, from_=0, to=100, increment=1)\n",
    "        self.sum_label = tk.Label(root, text=\"\")\n",
    "        self.calc_button = tk.Button(root, text=\"Вычислить сумму\", command=self.calculate_sum)\n",
    "        self.start_spinbox.pack(pady=10)\n",
    "        self.end_spinbox.pack(pady=10)\n",
    "        self.sum_label.pack(pady=10)\n",
    "        self.calc_button.pack(pady=10)\n",
    "    \n",
    "    def calculate_sum(self):\n",
    "        start = int(self.start_spinbox.get())\n",
    "        end = int(self.end_spinbox.get())\n",
    "        sum_ = sum(range(start, end+1))\n",
    "        self.sum_label.configure(text=f\"Сумма чисел в диапазоне от {start} до {end}: {sum_}\")\n",
    "\n",
    "\n",
    "root = tk.Tk()\n",
    "app = SumApp(root)\n",
    "root.mainloop()"
   ]
  },
  {
   "attachments": {},
   "cell_type": "markdown",
   "metadata": {},
   "source": [
    "# 11. Размещение элементов интерфейса в Tkinter\n",
    "\n",
    "Элементы интерфейса в Tkinter называются виджетами. Существует три основных способа расположения виджетов на поверхности окна: `pack()`, `place()` и `grid()`. Каждый из этих методов имеет свои преимущества и недостатки, и выбор оптимального способа зависит от конкретной ситуации."
   ]
  },
  {
   "attachments": {},
   "cell_type": "markdown",
   "metadata": {},
   "source": [
    "## `pack()`\n",
    "`pack()` – упорядочивает виджеты по горизонтали или вертикали. Он прост в использовании, не требует дополнительных параметров (указания отступов, конкретной позиции). Подходит для создания простых интерфейсов. Недостаток – с помощью `pack()` проблематично реализовать сложную компоновку, например, сетку или перекрывание виджетов: для этого нужно комбинировать метод с `place()`."
   ]
  },
  {
   "cell_type": "code",
   "execution_count": null,
   "metadata": {},
   "outputs": [],
   "source": [
    "import tkinter\n",
    "\n",
    "root = tkinter.Tk()\n",
    "\n",
    "label1 = tkinter.Label(root, text=\"Это пример использования pack()\")\n",
    "label1.pack()\n",
    "\n",
    "button1 = tkinter.Button(root, text=\"Нажми!\")\n",
    "button1.pack()\n",
    "\n",
    "root.mainloop()"
   ]
  },
  {
   "attachments": {},
   "cell_type": "markdown",
   "metadata": {},
   "source": [
    "## `place()`\n",
    "`place()` – позволяет задать точное положение и размер каждого виджета в окне. Его используют, когда необходимо точно расположить виджеты или создать перекрывающиеся элементы интерфейса. Недостаток – при изменении размеров окна или содержимого виджетов трудно сохранить расположение элементов."
   ]
  },
  {
   "cell_type": "code",
   "execution_count": null,
   "metadata": {},
   "outputs": [],
   "source": [
    "import tkinter\n",
    "\n",
    "root = tkinter.Tk()\n",
    "\n",
    "label1 = tkinter.Label(root, text=\"Это пример использования place()\")\n",
    "label1.place(x=5, y=50)\n",
    "\n",
    "button1 = tkinter.Button(root, text=\"Нажми кнопку\")\n",
    "button1.place(x=50, y=100)\n",
    "\n",
    "root.mainloop()"
   ]
  },
  {
   "attachments": {},
   "cell_type": "markdown",
   "metadata": {},
   "source": [
    "## `grid()`\n",
    "`grid()` – упорядочивает виджеты в сетку из рядов и столбцов. Самый гибкий и мощный, позволяет создавать сложные интерфейсы, состоящие из виджетов разных размеров. Сложнее в использовании, чем `pack()`, поскольку требует больше кода для компоновки виджетов."
   ]
  },
  {
   "cell_type": "code",
   "execution_count": null,
   "metadata": {},
   "outputs": [],
   "source": [
    "import tkinter\n",
    "\n",
    "root = tkinter.Tk()\n",
    "root.title(\"Пример grid()\")\n",
    "root.geometry(\"250x250\")\n",
    "\n",
    "frame = tkinter.Frame(root)\n",
    "frame.pack(expand=True)\n",
    "\n",
    "label1 = tkinter.Label(frame, text=\"Username:\")\n",
    "label1.grid(row=0, column=0)\n",
    "\n",
    "entry1 = tkinter.Entry(frame)\n",
    "entry1.grid(row=0, column=1)\n",
    "\n",
    "label2 = tkinter.Label(frame, text=\"Email:\")\n",
    "label2.grid(row=1, column=0)\n",
    "\n",
    "entry2 = tkinter.Entry(frame)\n",
    "entry2.grid(row=1, column=1)\n",
    "\n",
    "button1 = tkinter.Button(frame, text=\"Send credentials\")\n",
    "button1.grid(row=2, column=1)\n",
    "\n",
    "root.update_idletasks()\n",
    "width = root.winfo_width()\n",
    "height = root.winfo_height()\n",
    "x = (root.winfo_screenwidth() // 2) - (width // 2)\n",
    "y = (root.winfo_screenheight() // 2) - (height // 2)\n",
    "root.geometry('{}x{}+{}+{}'.format(width, height, x, y))\n",
    "\n",
    "root.mainloop()"
   ]
  },
  {
   "attachments": {},
   "cell_type": "markdown",
   "metadata": {},
   "source": [
    "В целом, `pack()` хорошо подходит для простых интерфейсов, `place()` – для более сложных, а `grid()` используют для создания сложных интерфейсов, которым нужна адаптивность, особое позиционирование или растягивание виджетов на несколько строк / столбцов."
   ]
  },
  {
   "attachments": {},
   "cell_type": "markdown",
   "metadata": {},
   "source": [
    "# 12. Связывание виджетов с функциями\n",
    "\n",
    "Чтобы при нажатии кнопки выполнялось какое-то действие, нужно связать кнопку с определенной функцией. Чаще всего для этого используются методы `command()` и `bind()`, но при необходимости к виджетам Tkinter можно привязывать выполнение анонимных и частично примененных функций. Проиллюстрирую примерами."
   ]
  },
  {
   "attachments": {},
   "cell_type": "markdown",
   "metadata": {},
   "source": [
    "## `command()`\n",
    "Метод `command()` используется для прямого связывания функции с нажатием кнопки:"
   ]
  },
  {
   "cell_type": "code",
   "execution_count": null,
   "metadata": {},
   "outputs": [],
   "source": [
    "import tkinter\n",
    "\n",
    "root = tkinter.Tk()\n",
    "\n",
    "def say_hello():\n",
    "    print(\"Hello user!\")\n",
    "\n",
    "button1 = tk.Button(root, text=\"Say hello\", command=say_hello)\n",
    "button1.pack()\n",
    "\n",
    "root.mainloop()"
   ]
  },
  {
   "attachments": {},
   "cell_type": "markdown",
   "metadata": {},
   "source": [
    "## `bind()`\n",
    "Метод `bind()`, по сравнению с `command()`, отличается большей гибкостью: его можно использовать для связывания функции с любым событием, происходящим в виджете – с нажатием кнопки, движением мыши, нажатием клавиши, изменением размера окна и так далее:"
   ]
  },
  {
   "cell_type": "code",
   "execution_count": null,
   "metadata": {},
   "outputs": [],
   "source": [
    "import tkinter\n",
    "\n",
    "root = tkinter.Tk()\n",
    "\n",
    "def say_hello(event=None):\n",
    "    print(\"Hello from bind()\")\n",
    "\n",
    "button1 = tkinter.Button(root, text=\"Press the button\")\n",
    "button1.bind(\"<Button-1>\", say_hello)\n",
    "button1.pack()\n",
    "\n",
    "root.mainloop()"
   ]
  },
  {
   "attachments": {},
   "cell_type": "markdown",
   "metadata": {},
   "source": [
    "Назначение кнопке анонимной функции:"
   ]
  },
  {
   "cell_type": "code",
   "execution_count": null,
   "metadata": {},
   "outputs": [],
   "source": [
    "import tkinter\n",
    "\n",
    "root = tkinter.Tk()\n",
    "\n",
    "button1 = tkinter.Button(root, text=\"Press the button\", command=lambda: print(\"Hello from lambda func\"))\n",
    "button1.pack()\n",
    "\n",
    "root.mainloop()"
   ]
  },
  {
   "attachments": {},
   "cell_type": "markdown",
   "metadata": {},
   "source": [
    "Связывание кнопки с частично примененной функцией:"
   ]
  },
  {
   "cell_type": "code",
   "execution_count": null,
   "metadata": {},
   "outputs": [],
   "source": [
    "import tkinter\n",
    "from functools import partial\n",
    "\n",
    "root = tkinter.Tk()\n",
    "\n",
    "def say_hello(name):\n",
    "    print(f\"Hello, {name}!\")\n",
    "\n",
    "button1 = tkinter.Button(root, text=\"Press the button\", command=partial(say_hello, \"user\"))\n",
    "button1.pack()\n",
    "\n",
    "root.mainloop()"
   ]
  }
 ],
 "metadata": {
  "kernelspec": {
   "display_name": "Python 3",
   "language": "python",
   "name": "python3"
  },
  "language_info": {
   "codemirror_mode": {
    "name": "ipython",
    "version": 3
   },
   "file_extension": ".py",
   "mimetype": "text/x-python",
   "name": "python",
   "nbconvert_exporter": "python",
   "pygments_lexer": "ipython3",
   "version": "3.10.2"
  },
  "orig_nbformat": 4
 },
 "nbformat": 4,
 "nbformat_minor": 2
}
